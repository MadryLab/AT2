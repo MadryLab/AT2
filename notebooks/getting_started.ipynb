{
 "cells": [
  {
   "cell_type": "markdown",
   "metadata": {},
   "source": [
    "# Getting started\n",
    "\n",
    "In this notebook, we'll walk through the basic functionality of AT2 by using it for a *context attribution* task.\n",
    "Given a context and a query, we use a language model to generate a response.\n",
    "From here, AT2 can tell us which sources from the context (if any) the language model *uses* to generate its response.\n",
    "\n",
    "Applying AT2 requires learning a *score estimator* for a particular model to estimate the influence of a given source on the model's generation.\n",
    "In this notebook, we'll use an existing AT2 score estimator for [`microsoft/Phi-4-mini-instruct`](https://huggingface.co/microsoft/Phi-4-mini-instruct).\n",
    "To see how to train a score estimator from scratch, check out [this tutorial](https://github.com/MadryLab/AT2/blob/main/notebooks/train_at2.ipynb)."
   ]
  },
  {
   "cell_type": "code",
   "execution_count": 1,
   "metadata": {},
   "outputs": [],
   "source": [
    "import torch as ch\n",
    "from datasets import load_dataset"
   ]
  },
  {
   "cell_type": "code",
   "execution_count": 2,
   "metadata": {},
   "outputs": [
    {
     "name": "stderr",
     "output_type": "stream",
     "text": [
      "[nltk_data] Downloading package punkt_tab to\n",
      "[nltk_data]     /mnt/xfs/home/bencw/nltk_data...\n",
      "[nltk_data]   Package punkt_tab is already up-to-date!\n"
     ]
    }
   ],
   "source": [
    "from at2.tasks import SimpleContextAttributionTask\n",
    "from at2.utils import get_model_and_tokenizer\n",
    "from at2 import AT2Attributor, AT2ScoreEstimator"
   ]
  },
  {
   "cell_type": "markdown",
   "metadata": {},
   "source": [
    "We'll start by loading the model and its tokenizer."
   ]
  },
  {
   "cell_type": "code",
   "execution_count": 3,
   "metadata": {},
   "outputs": [
    {
     "data": {
      "application/vnd.jupyter.widget-view+json": {
       "model_id": "21a1370dbff542a7aebf7d72605e5fd3",
       "version_major": 2,
       "version_minor": 0
      },
      "text/plain": [
       "Loading checkpoint shards:   0%|          | 0/2 [00:00<?, ?it/s]"
      ]
     },
     "metadata": {},
     "output_type": "display_data"
    }
   ],
   "source": [
    "model_name = \"microsoft/Phi-4-mini-instruct\"\n",
    "dtype = ch.bfloat16\n",
    "model, tokenizer = get_model_and_tokenizer(model_name, dtype=dtype)"
   ]
  },
  {
   "cell_type": "markdown",
   "metadata": {},
   "source": [
    "Next, we'll create an \"attribution task.\"\n",
    "An attribution task consists of an input sequence, a generated sequence, a model/tokenizer and a set of sources to which we would like to attribute the generated sequence.\n",
    "In this case, the input sequence is a news article from [CNN DailyMail](https://huggingface.co/datasets/abisee/cnn_dailymail) and a request to summarize it.\n",
    "The generated sequence is the model's response and the sources are sentences from the news article.\n",
    "By pinpointing the sentences from the news article that the model uses to generate a given statement, we obtain a \"citation\" for this statement.\n",
    "We've defined a class, `SimpleContextAttributionTask` to be able to quickly create an attribution task from an example in the dataset."
   ]
  },
  {
   "cell_type": "code",
   "execution_count": 4,
   "metadata": {},
   "outputs": [],
   "source": [
    "dataset = load_dataset(\"cnn_dailymail\", \"3.0.0\", split=\"validation\")\n",
    "example = dataset[0]\n",
    "context = example[\"article\"]\n",
    "query = \"Summarize the article in up to three sentences.\"\n",
    "\n",
    "task = SimpleContextAttributionTask(\n",
    "    context=context,\n",
    "    query=query,\n",
    "    model=model,\n",
    "    tokenizer=tokenizer,\n",
    "    source_type=\"sentence\",\n",
    ")"
   ]
  },
  {
   "cell_type": "markdown",
   "metadata": {},
   "source": [
    "The first step is to generate a response for the context (a news article) and instruction (a request to summarize it).\n",
    "The `AttributionTask` class handles this for us."
   ]
  },
  {
   "cell_type": "code",
   "execution_count": 5,
   "metadata": {},
   "outputs": [
    {
     "name": "stdout",
     "output_type": "stream",
     "text": [
      "### Context ###\n",
      "(CNN)Share, and your gift will be multiplied. That may sound like an esoteric adage, but when Zully Broussard selflessly decided to give one of her kidneys to a stranger, her generosity paired up with big data. It resulted in six patients receiving transplants. That surprised and wowed her. \"I thought I was going to help this one person who I don't know, but the fact that so many people can have a life extension, that's pretty big,\" Broussard told CNN affiliate KGO. She may feel guided in her ge...\n",
      "\n",
      "### Instruction ###\n",
      "Summarize the article in up to three sentences.\n",
      "\n",
      "### Generated response ###\n",
      "Zully Broussard's selfless kidney donation led to a chain of six transplants, thanks to a data-driven matching system that connected her with other donors and recipients. The process, facilitated by a computer program called MatchGrid, significantly reduced the time needed to find compatible donor-recipient pairs, from months to weeks. This rare long-chain transplant showcases the power of altruism and technology in saving lives.\n"
     ]
    }
   ],
   "source": [
    "print(\"### Context ###\")\n",
    "print(context[:500] + \"...\" if len(context) > 500 else context)\n",
    "print()\n",
    "print(\"### Instruction ###\")\n",
    "print(query)\n",
    "print()\n",
    "# Generates a response and caches relevant information for attribution\n",
    "print(\"### Generated response ###\")\n",
    "print(task.generation)"
   ]
  },
  {
   "cell_type": "markdown",
   "metadata": {},
   "source": [
    "These are this task's \"sources,\" i.e., the units to which we would like to attribute the model's generation.\n",
    "The AT2 score estimator assigns a score to each of these to signify its influence."
   ]
  },
  {
   "cell_type": "code",
   "execution_count": 6,
   "metadata": {},
   "outputs": [
    {
     "name": "stdout",
     "output_type": "stream",
     "text": [
      "Total sources: 43\n",
      "Source #0:\n",
      "(CNN)Share, and your gift will be multiplied.\n",
      "\n",
      "Source #1:\n",
      "That may sound like an esoteric adage, but when Zully Broussard selflessly decided to give one of her kidneys to a stranger, her generosity paired up with big data.\n",
      "\n",
      "Source #2:\n",
      "It resulted in six patients receiving transplants.\n",
      "\n"
     ]
    }
   ],
   "source": [
    "print(\"Total sources:\", task.num_sources)\n",
    "# This is the first few sources (sentences from the context)\n",
    "for i in range(3):\n",
    "    print(f\"Source #{i}:\")\n",
    "    print(task.sources[i].strip())\n",
    "    print()"
   ]
  },
  {
   "cell_type": "markdown",
   "metadata": {},
   "source": [
    "Next, we'll create an `AT2Attributor` (which uses attention weights to estimate an attribution score to each source) for `Phi-4-min-instruct`."
   ]
  },
  {
   "cell_type": "code",
   "execution_count": 7,
   "metadata": {},
   "outputs": [],
   "source": [
    "attributor = AT2Attributor.from_hub(task, \"madrylab/at2-phi-4-mini-instruct\")"
   ]
  },
  {
   "cell_type": "markdown",
   "metadata": {},
   "source": [
    "We'll be interested in attributing a particular sentence from the response.\n",
    "The `AttributionTask` class has a nice utility to help us out with this."
   ]
  },
  {
   "cell_type": "code",
   "execution_count": 8,
   "metadata": {},
   "outputs": [
    {
     "name": "stdout",
     "output_type": "stream",
     "text": [
      "\u001b[36m[(0, 170)]\u001b[0mZully Broussard's selfless kidney donation led to a chain of six transplants, thanks to a data-driven matching system that connected her with other donors and recipients. \u001b[36m[(171, 337)]\u001b[0mThe process, facilitated by a computer program called MatchGrid, significantly reduced the time needed to find compatible donor-recipient pairs, from months to weeks. \u001b[36m[(338, 433)]\u001b[0mThis rare long-chain transplant showcases the power of altruism and technology in saving lives.\n"
     ]
    }
   ],
   "source": [
    "task.show_target_with_indices()"
   ]
  },
  {
   "cell_type": "markdown",
   "metadata": {},
   "source": [
    "Let's attribute the second sentence!"
   ]
  },
  {
   "cell_type": "code",
   "execution_count": 9,
   "metadata": {},
   "outputs": [
    {
     "name": "stdout",
     "output_type": "stream",
     "text": [
      "Computing attribution scores for:\n",
      " The process, facilitated by a computer program called MatchGrid, significantly reduced the time needed to find compatible donor-recipient pairs, from months to weeks.\n"
     ]
    },
    {
     "data": {
      "text/html": [
       "<style type=\"text/css\">\n",
       "#T_e0366_row0_col0 {\n",
       "  background-color: #053061;\n",
       "  color: #f1f1f1;\n",
       "}\n",
       "#T_e0366_row1_col0 {\n",
       "  background-color: #65a9cf;\n",
       "  color: #f1f1f1;\n",
       "}\n",
       "#T_e0366_row2_col0 {\n",
       "  background-color: #75b2d4;\n",
       "  color: #f1f1f1;\n",
       "}\n",
       "#T_e0366_row3_col0 {\n",
       "  background-color: #87beda;\n",
       "  color: #000000;\n",
       "}\n",
       "#T_e0366_row4_col0 {\n",
       "  background-color: #a9d1e5;\n",
       "  color: #000000;\n",
       "}\n",
       "#T_e0366_row5_col0 {\n",
       "  background-color: #aed3e6;\n",
       "  color: #000000;\n",
       "}\n",
       "#T_e0366_row6_col0 {\n",
       "  background-color: #b3d6e8;\n",
       "  color: #000000;\n",
       "}\n",
       "#T_e0366_row7_col0 {\n",
       "  background-color: #d8e9f1;\n",
       "  color: #000000;\n",
       "}\n",
       "</style>\n",
       "<table id=\"T_e0366\">\n",
       "  <thead>\n",
       "    <tr>\n",
       "      <th class=\"blank level0\" >&nbsp;</th>\n",
       "      <th id=\"T_e0366_level0_col0\" class=\"col_heading level0 col0\" >Score</th>\n",
       "      <th id=\"T_e0366_level0_col1\" class=\"col_heading level0 col1\" >Source</th>\n",
       "    </tr>\n",
       "  </thead>\n",
       "  <tbody>\n",
       "    <tr>\n",
       "      <th id=\"T_e0366_level0_row0\" class=\"row_heading level0 row0\" >0</th>\n",
       "      <td id=\"T_e0366_row0_col0\" class=\"data row0 col0\" >0.003</td>\n",
       "      <td id=\"T_e0366_row0_col1\" class=\"data row0 col1\" > Jacobs paid it forward with his programming skills, creating MatchGrid, a program that genetically matches up donor pairs or chains quickly.</td>\n",
       "    </tr>\n",
       "    <tr>\n",
       "      <th id=\"T_e0366_level0_row1\" class=\"row_heading level0 row1\" >1</th>\n",
       "      <td id=\"T_e0366_row1_col0\" class=\"data row1 col0\" >0.002</td>\n",
       "      <td id=\"T_e0366_row1_col1\" class=\"data row1 col1\" > That changed when a computer programmer named David Jacobs received a kidney transplant.</td>\n",
       "    </tr>\n",
       "    <tr>\n",
       "      <th id=\"T_e0366_level0_row2\" class=\"row_heading level0 row2\" >2</th>\n",
       "      <td id=\"T_e0366_row2_col0\" class=\"data row2 col0\" >0.001</td>\n",
       "      <td id=\"T_e0366_row2_col1\" class=\"data row2 col1\" > But the power that multiplied Broussard's gift was data processing of genetic profiles from donor-recipient pairs.</td>\n",
       "    </tr>\n",
       "    <tr>\n",
       "      <th id=\"T_e0366_level0_row3\" class=\"row_heading level0 row3\" >3</th>\n",
       "      <td id=\"T_e0366_row3_col0\" class=\"data row3 col0\" >0.001</td>\n",
       "      <td id=\"T_e0366_row3_col1\" class=\"data row3 col1\" > \"When we did a five-way swap a few years ago, which was one of the largest, it took about three to four months.</td>\n",
       "    </tr>\n",
       "    <tr>\n",
       "      <th id=\"T_e0366_level0_row4\" class=\"row_heading level0 row4\" >4</th>\n",
       "      <td id=\"T_e0366_row4_col0\" class=\"data row4 col0\" >0.001</td>\n",
       "      <td id=\"T_e0366_row4_col1\" class=\"data row4 col1\" > \"The significance of the altruistic donor is that it opens up possibilities for pairing compatible donors and recipients,\" said Dr. Steven Katznelson.</td>\n",
       "    </tr>\n",
       "    <tr>\n",
       "      <th id=\"T_e0366_level0_row5\" class=\"row_heading level0 row5\" >5</th>\n",
       "      <td id=\"T_e0366_row5_col0\" class=\"data row5 col0\" >0.001</td>\n",
       "      <td id=\"T_e0366_row5_col1\" class=\"data row5 col1\" > We did this in about three weeks,\" Jacobs said.</td>\n",
       "    </tr>\n",
       "    <tr>\n",
       "      <th id=\"T_e0366_level0_row6\" class=\"row_heading level0 row6\" >6</th>\n",
       "      <td id=\"T_e0366_row6_col0\" class=\"data row6 col0\" >0.001</td>\n",
       "      <td id=\"T_e0366_row6_col1\" class=\"data row6 col1\" > It's been done before, California Pacific Medical Center said in a statement, but matching up the people in the chain has been laborious and taken a long time.</td>\n",
       "    </tr>\n",
       "    <tr>\n",
       "      <th id=\"T_e0366_level0_row7\" class=\"row_heading level0 row7\" >7</th>\n",
       "      <td id=\"T_e0366_row7_col0\" class=\"data row7 col0\" >0.000</td>\n",
       "      <td id=\"T_e0366_row7_col1\" class=\"data row7 col1\" > It works on a simple swapping principle but takes it to a much higher level, according to California Pacific Medical Center in San Francisco.</td>\n",
       "    </tr>\n",
       "  </tbody>\n",
       "</table>\n"
      ],
      "text/plain": [
       "<pandas.io.formats.style.Styler at 0x7f6e1014e680>"
      ]
     },
     "execution_count": 9,
     "metadata": {},
     "output_type": "execute_result"
    }
   ],
   "source": [
    "start, end = (171, 337)\n",
    "attributor.show_attribution(start=start, end=end, verbose=True)"
   ]
  },
  {
   "cell_type": "markdown",
   "metadata": {},
   "source": [
    "We can also directly access the attribution scores as follows."
   ]
  },
  {
   "cell_type": "code",
   "execution_count": 10,
   "metadata": {},
   "outputs": [
    {
     "data": {
      "text/plain": [
       "array([ 1.14917755e-04,  2.26020813e-04,  9.82284546e-05,  7.10487366e-05,\n",
       "        1.42097473e-04,  1.07288361e-04,  7.82012939e-05,  3.05175781e-05,\n",
       "        2.70605087e-05,  9.53674316e-05,  1.38092041e-03,  4.69207764e-04,\n",
       "        3.35693359e-04,  1.35421753e-04,  3.64303589e-04,  1.64031982e-04,\n",
       "        1.44004822e-04,  2.76565552e-04,  1.26838684e-04,  1.90734863e-04,\n",
       "        2.03132629e-04,  1.37329102e-04,  2.46047974e-04,  7.24792480e-05,\n",
       "        5.84125519e-05,  1.90734863e-04,  2.26020813e-04,  2.76565552e-04,\n",
       "        2.06947327e-04,  1.22070312e-04,  3.39508057e-04,  1.51634216e-04,\n",
       "        8.62121582e-04,  1.50299072e-03,  1.08718872e-04,  2.92968750e-03,\n",
       "        1.25122070e-03,  9.15527344e-04,  2.65121460e-04,  9.61303711e-04,\n",
       "        4.36782837e-04, -4.62532043e-05, -5.67436218e-05], dtype=float32)"
      ]
     },
     "execution_count": 10,
     "metadata": {},
     "output_type": "execute_result"
    }
   ],
   "source": [
    "scores = attributor.get_attribution_scores(start=start, end=end)\n",
    "scores"
   ]
  },
  {
   "cell_type": "markdown",
   "metadata": {},
   "source": [
    "If we'd like to perform attribution for multiple examples, we can load the trained AT2 score estimator once as follows and then pass it in to the `AT2Attributor` constructor."
   ]
  },
  {
   "cell_type": "code",
   "execution_count": 11,
   "metadata": {},
   "outputs": [],
   "source": [
    "score_estimator = AT2ScoreEstimator.from_hub(\"madrylab/at2-phi-4-mini-instruct\")\n",
    "attributor = AT2Attributor(task, score_estimator)"
   ]
  }
 ],
 "metadata": {
  "kernelspec": {
   "display_name": "Python 3 (ipykernel)",
   "language": "python",
   "name": "python3"
  },
  "language_info": {
   "codemirror_mode": {
    "name": "ipython",
    "version": 3
   },
   "file_extension": ".py",
   "mimetype": "text/x-python",
   "name": "python",
   "nbconvert_exporter": "python",
   "pygments_lexer": "ipython3",
   "version": "3.10.14"
  }
 },
 "nbformat": 4,
 "nbformat_minor": 2
}
