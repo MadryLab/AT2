{
 "cells": [
  {
   "cell_type": "markdown",
   "metadata": {},
   "source": [
    "# Getting started\n",
    "\n",
    "In this notebook, we'll walk through the basic functionality of AT2.\n",
    "Applying AT2 requires learning to attribute a particular model's behavior using a dataset of training examples.\n",
    "In this notebook, we'll use an existing instance of AT2 trained to attribute the generations of [`microsoft/Phi-4-mini-instruct`](https://huggingface.co/microsoft/Phi-4-mini-instruct), a small but performant model."
   ]
  },
  {
   "cell_type": "code",
   "execution_count": 5,
   "metadata": {},
   "outputs": [],
   "source": [
    "import torch as ch\n",
    "from pathlib import Path\n",
    "from transformers import AutoTokenizer, AutoModelForCausalLM\n",
    "from datasets import load_dataset"
   ]
  },
  {
   "cell_type": "code",
   "execution_count": 1,
   "metadata": {},
   "outputs": [
    {
     "name": "stderr",
     "output_type": "stream",
     "text": [
      "[nltk_data] Downloading package punkt_tab to\n",
      "[nltk_data]     /mnt/xfs/home/bencw/nltk_data...\n",
      "[nltk_data]   Package punkt_tab is already up-to-date!\n"
     ]
    }
   ],
   "source": [
    "from at2.tasks import SimpleContextAttributionTask\n",
    "from at2.utils import get_model_and_tokenizer\n",
    "from at2 import AT2Trainer, AT2Attributor, AT2FeatureExtractor, AT2ScoreEstimator"
   ]
  },
  {
   "cell_type": "markdown",
   "metadata": {},
   "source": [
    "We'll start by loading the model and its tokenizer."
   ]
  },
  {
   "cell_type": "code",
   "execution_count": 7,
   "metadata": {},
   "outputs": [
    {
     "data": {
      "application/vnd.jupyter.widget-view+json": {
       "model_id": "31746bed12f04aeabf8cedc26a3e829c",
       "version_major": 2,
       "version_minor": 0
      },
      "text/plain": [
       "Loading checkpoint shards:   0%|          | 0/2 [00:00<?, ?it/s]"
      ]
     },
     "metadata": {},
     "output_type": "display_data"
    }
   ],
   "source": [
    "model_name = \"microsoft/Phi-4-mini-instruct\"\n",
    "dtype = ch.bfloat16\n",
    "attn_implementation = \"flash_attention_2\"\n",
    "model, tokenizer = get_model_and_tokenizer(model_name, dtype=dtype, attn_implementation=attn_implementation)"
   ]
  },
  {
   "cell_type": "markdown",
   "metadata": {},
   "source": [
    "Next, we'll create an \"attribution task.\"\n",
    "An attribution task consists of an input sequence, a generated sequence, a model/tokenizer and a set of sources to which we would like to attribute the generated sequence.\n",
    "In this case, the input sequence is a news article from [CNN DailyMail](https://huggingface.co/datasets/abisee/cnn_dailymail) and a request to summarize it, the generated sequence is the model's response and the sources are sentences from the news article.\n",
    "By pinpointing the sentences from the news article that the model uses to generate a particular statement, we obtain a \"citation\" for this statement.\n",
    "We've defined a class, `SimpleContextAttributionTask` to be able to quickly create an attribution task from an example in the dataset."
   ]
  },
  {
   "cell_type": "code",
   "execution_count": 12,
   "metadata": {},
   "outputs": [],
   "source": [
    "dataset = load_dataset(\"cnn_dailymail\", \"3.0.0\", split=\"validation\")\n",
    "example = dataset[0]\n",
    "context = example[\"article\"]\n",
    "query = \"Summarize the article in up to three sentences.\"\n",
    "\n",
    "task = SimpleContextAttributionTask(\n",
    "    context=context,\n",
    "    query=query,\n",
    "    model=model,\n",
    "    tokenizer=tokenizer,\n",
    "    source_type=\"sentence\",\n",
    ")"
   ]
  },
  {
   "cell_type": "markdown",
   "metadata": {},
   "source": [
    "The first step is to generate a response for the context (a news article) and instruction (a request to summarize it).\n",
    "The `AttributionTask` class that `task` is an instance of handles this for us."
   ]
  },
  {
   "cell_type": "code",
   "execution_count": 13,
   "metadata": {},
   "outputs": [
    {
     "name": "stdout",
     "output_type": "stream",
     "text": [
      "### Context ###\n",
      "(CNN)Share, and your gift will be multiplied. That may sound like an esoteric adage, but when Zully Broussard selflessly decided to give one of her kidneys to a stranger, her generosity paired up with big data. It resulted in six patients receiving transplants. That surprised and wowed her. \"I thought I was going to help this one person who I don't know, but the fact that so many people can have a life extension, that's pretty big,\" Broussard told CNN affiliate KGO. She may feel guided in her ge...\n",
      "\n",
      "### Instruction ###\n",
      "Summarize the article in up to three sentences.\n",
      "\n",
      "### Generated response ###\n",
      "Zully Broussard's selfless act of donating a kidney to a stranger led to a chain reaction, resulting in six patients receiving transplants. The process, which involved a series of paired donations, was made possible by a computer program called MatchGrid, created by David Jacobs, which quickly matches up donor pairs or chains. The chain of surgeries, which involved five surgeons, a team of physician assistants, nurses, anesthesiologists, and more than 40 support staff, is set to be completed by Friday.\n"
     ]
    }
   ],
   "source": [
    "print(\"### Context ###\")\n",
    "print(context[:500] + \"...\" if len(context) > 500 else context)\n",
    "print()\n",
    "print(\"### Instruction ###\")\n",
    "print(query)\n",
    "print()\n",
    "# Generates a response and caches relevant information for attribution\n",
    "print(\"### Generated response ###\")\n",
    "print(task.generation)"
   ]
  },
  {
   "cell_type": "markdown",
   "metadata": {},
   "source": [
    "Next, we'll create an `AT2Attributor` (which uses attention weights to assign an attribution score to each source) that was trained to attribute the responses of `Phi-4-min-instruct`."
   ]
  },
  {
   "cell_type": "code",
   "execution_count": 15,
   "metadata": {},
   "outputs": [],
   "source": [
    "attributor = AT2Attributor.from_hub(task, \"madrylab/at2-phi-4-mini-instruct\")"
   ]
  },
  {
   "cell_type": "markdown",
   "metadata": {},
   "source": [
    "We'll be interested in attributing a particular sentence from the response.\n",
    "The `task` we have has a nice utility to help us out with this."
   ]
  },
  {
   "cell_type": "code",
   "execution_count": 16,
   "metadata": {},
   "outputs": [
    {
     "name": "stdout",
     "output_type": "stream",
     "text": [
      "\u001b[36m[(0, 139)]\u001b[0mZully Broussard's selfless act of donating a kidney to a stranger led to a chain reaction, resulting in six patients receiving transplants. \u001b[36m[(140, 328)]\u001b[0mThe process, which involved a series of paired donations, was made possible by a computer program called MatchGrid, created by David Jacobs, which quickly matches up donor pairs or chains. \u001b[36m[(329, 507)]\u001b[0mThe chain of surgeries, which involved five surgeons, a team of physician assistants, nurses, anesthesiologists, and more than 40 support staff, is set to be completed by Friday.\n"
     ]
    }
   ],
   "source": [
    "task.show_target_with_indices()"
   ]
  },
  {
   "cell_type": "markdown",
   "metadata": {},
   "source": [
    "Let's attribute the second sentence!"
   ]
  },
  {
   "cell_type": "code",
   "execution_count": 17,
   "metadata": {},
   "outputs": [
    {
     "name": "stdout",
     "output_type": "stream",
     "text": [
      "Computing attribution scores for:\n",
      " The process, which involved a series of paired donations, was made possible by a computer program called MatchGrid, created by David Jacobs, which quickly matches up donor pairs or chains.\n"
     ]
    },
    {
     "data": {
      "text/html": [
       "<style type=\"text/css\">\n",
       "#T_abb91_row0_col0 {\n",
       "  background-color: #053061;\n",
       "  color: #f1f1f1;\n",
       "}\n",
       "#T_abb91_row1_col0 {\n",
       "  background-color: #71b0d3;\n",
       "  color: #f1f1f1;\n",
       "}\n",
       "#T_abb91_row2_col0 {\n",
       "  background-color: #cae1ee;\n",
       "  color: #000000;\n",
       "}\n",
       "#T_abb91_row3_col0 {\n",
       "  background-color: #d7e8f1;\n",
       "  color: #000000;\n",
       "}\n",
       "#T_abb91_row4_col0 {\n",
       "  background-color: #e0ecf3;\n",
       "  color: #000000;\n",
       "}\n",
       "#T_abb91_row5_col0 {\n",
       "  background-color: #e6eff4;\n",
       "  color: #000000;\n",
       "}\n",
       "#T_abb91_row6_col0, #T_abb91_row7_col0 {\n",
       "  background-color: #e9f0f4;\n",
       "  color: #000000;\n",
       "}\n",
       "</style>\n",
       "<table id=\"T_abb91\">\n",
       "  <thead>\n",
       "    <tr>\n",
       "      <th class=\"blank level0\" >&nbsp;</th>\n",
       "      <th id=\"T_abb91_level0_col0\" class=\"col_heading level0 col0\" >Score</th>\n",
       "      <th id=\"T_abb91_level0_col1\" class=\"col_heading level0 col1\" >Source</th>\n",
       "    </tr>\n",
       "  </thead>\n",
       "  <tbody>\n",
       "    <tr>\n",
       "      <th id=\"T_abb91_level0_row0\" class=\"row_heading level0 row0\" >0</th>\n",
       "      <td id=\"T_abb91_row0_col0\" class=\"data row0 col0\" >0.006</td>\n",
       "      <td id=\"T_abb91_row0_col1\" class=\"data row0 col1\" > Jacobs paid it forward with his programming skills, creating MatchGrid, a program that genetically matches up donor pairs or chains quickly.</td>\n",
       "    </tr>\n",
       "    <tr>\n",
       "      <th id=\"T_abb91_level0_row1\" class=\"row_heading level0 row1\" >1</th>\n",
       "      <td id=\"T_abb91_row1_col0\" class=\"data row1 col0\" >0.003</td>\n",
       "      <td id=\"T_abb91_row1_col1\" class=\"data row1 col1\" > That changed when a computer programmer named David Jacobs received a kidney transplant.</td>\n",
       "    </tr>\n",
       "    <tr>\n",
       "      <th id=\"T_abb91_level0_row2\" class=\"row_heading level0 row2\" >2</th>\n",
       "      <td id=\"T_abb91_row2_col0\" class=\"data row2 col0\" >0.001</td>\n",
       "      <td id=\"T_abb91_row2_col1\" class=\"data row2 col1\" > But the power that multiplied Broussard's gift was data processing of genetic profiles from donor-recipient pairs.</td>\n",
       "    </tr>\n",
       "    <tr>\n",
       "      <th id=\"T_abb91_level0_row3\" class=\"row_heading level0 row3\" >3</th>\n",
       "      <td id=\"T_abb91_row3_col0\" class=\"data row3 col0\" >0.001</td>\n",
       "      <td id=\"T_abb91_row3_col1\" class=\"data row3 col1\" > That's called a paired donation.</td>\n",
       "    </tr>\n",
       "    <tr>\n",
       "      <th id=\"T_abb91_level0_row4\" class=\"row_heading level0 row4\" >4</th>\n",
       "      <td id=\"T_abb91_row4_col0\" class=\"data row4 col0\" >0.001</td>\n",
       "      <td id=\"T_abb91_row4_col1\" class=\"data row4 col1\" > It works on a simple swapping principle but takes it to a much higher level, according to California Pacific Medical Center in San Francisco.</td>\n",
       "    </tr>\n",
       "    <tr>\n",
       "      <th id=\"T_abb91_level0_row5\" class=\"row_heading level0 row5\" >5</th>\n",
       "      <td id=\"T_abb91_row5_col0\" class=\"data row5 col0\" >0.001</td>\n",
       "      <td id=\"T_abb91_row5_col1\" class=\"data row5 col1\" > It's been done before, California Pacific Medical Center said in a statement, but matching up the people in the chain has been laborious and taken a long time.</td>\n",
       "    </tr>\n",
       "    <tr>\n",
       "      <th id=\"T_abb91_level0_row6\" class=\"row_heading level0 row6\" >6</th>\n",
       "      <td id=\"T_abb91_row6_col0\" class=\"data row6 col0\" >0.000</td>\n",
       "      <td id=\"T_abb91_row6_col1\" class=\"data row6 col1\" > That may sound like an esoteric adage, but when Zully Broussard selflessly decided to give one of her kidneys to a stranger, her generosity paired up with big data.</td>\n",
       "    </tr>\n",
       "    <tr>\n",
       "      <th id=\"T_abb91_level0_row7\" class=\"row_heading level0 row7\" >7</th>\n",
       "      <td id=\"T_abb91_row7_col0\" class=\"data row7 col0\" >0.000</td>\n",
       "      <td id=\"T_abb91_row7_col1\" class=\"data row7 col1\" > So high, that it is taking five surgeons, a covey of physician assistants, nurses and anesthesiologists, and more than 40 support staff to perform surgeries on 12 people.</td>\n",
       "    </tr>\n",
       "  </tbody>\n",
       "</table>\n"
      ],
      "text/plain": [
       "<pandas.io.formats.style.Styler at 0x7f3fadae9d80>"
      ]
     },
     "execution_count": 17,
     "metadata": {},
     "output_type": "execute_result"
    }
   ],
   "source": [
    "start, end = (140, 328)\n",
    "attributor.show_attribution(start=start, end=end, verbose=True)"
   ]
  },
  {
   "cell_type": "markdown",
   "metadata": {},
   "source": [
    "We can also directly access the attribution scores as follows."
   ]
  },
  {
   "cell_type": "code",
   "execution_count": 20,
   "metadata": {},
   "outputs": [
    {
     "name": "stdout",
     "output_type": "stream",
     "text": [
      "Computing attribution scores for:\n",
      " The process, which involved a series of paired donations, was made possible by a computer program called MatchGrid, created by David Jacobs, which quickly matches up donor pairs or chains.\n"
     ]
    },
    {
     "data": {
      "text/plain": [
       "array([ 1.72615051e-04,  4.25338745e-04,  1.55448914e-04,  9.44137573e-05,\n",
       "        1.04904175e-04,  1.67846680e-04,  8.05854797e-05,  3.07559967e-05,\n",
       "        2.38418579e-05,  1.07288361e-04,  1.25122070e-03,  6.75201416e-04,\n",
       "        3.92913818e-04,  1.11579895e-04,  2.51770020e-04,  1.94549561e-04,\n",
       "        1.36375427e-04,  3.28063965e-04,  1.09672546e-04,  1.91688538e-04,\n",
       "        1.58309937e-04,  6.24656677e-05,  2.10762024e-04,  1.48773193e-04,\n",
       "        1.35421753e-04,  9.38415527e-04,  2.80380249e-04,  3.66210938e-04,\n",
       "        2.47955322e-04,  1.43051147e-04,  2.46047974e-04,  1.93595886e-04,\n",
       "        5.14984131e-04,  2.70080566e-03,  1.12056732e-04,  5.58471680e-03,\n",
       "        2.18391418e-04,  1.90734863e-04,  2.53677368e-04,  1.35421753e-04,\n",
       "        4.17232513e-05, -6.29425049e-05, -6.86645508e-05], dtype=float32)"
      ]
     },
     "execution_count": 20,
     "metadata": {},
     "output_type": "execute_result"
    }
   ],
   "source": [
    "scores = attributor.get_attribution_scores(start=start, end=end)\n",
    "scores"
   ]
  }
 ],
 "metadata": {
  "kernelspec": {
   "display_name": "Python 3 (ipykernel)",
   "language": "python",
   "name": "python3"
  },
  "language_info": {
   "codemirror_mode": {
    "name": "ipython",
    "version": 3
   },
   "file_extension": ".py",
   "mimetype": "text/x-python",
   "name": "python",
   "nbconvert_exporter": "python",
   "pygments_lexer": "ipython3",
   "version": "3.10.14"
  }
 },
 "nbformat": 4,
 "nbformat_minor": 2
}
