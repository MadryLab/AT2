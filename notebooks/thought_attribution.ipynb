{
 "cells": [
  {
   "cell_type": "markdown",
   "metadata": {},
   "source": [
    "# Thought attribution with AT2\n",
    "\n",
    "In this notebook, we'll walk through attributing a model's final response to its intermediate thoughts using AT2.\n",
    "We'll be working with [DeepSeek-R1-Distill-Qwen-7B](https://huggingface.co/deepseek-ai/DeepSeek-R1-Distill-Qwen-7B), a small open-weight reasoning model distilled from a larger model."
   ]
  },
  {
   "cell_type": "code",
   "execution_count": 1,
   "metadata": {},
   "outputs": [
    {
     "name": "stderr",
     "output_type": "stream",
     "text": [
      "[nltk_data] Downloading package punkt_tab to\n",
      "[nltk_data]     /mnt/xfs/home/bencw/nltk_data...\n",
      "[nltk_data]   Package punkt_tab is already up-to-date!\n"
     ]
    }
   ],
   "source": [
    "from at2.utils import get_model_and_tokenizer\n",
    "from at2.tasks import SimpleThoughtAttributionTask\n",
    "from at2 import AT2Attributor, AT2ScoreEstimator, AT2FeatureExtractor"
   ]
  },
  {
   "cell_type": "code",
   "execution_count": 2,
   "metadata": {},
   "outputs": [
    {
     "name": "stderr",
     "output_type": "stream",
     "text": [
      "You are attempting to use Flash Attention 2.0 with a model not initialized on GPU. Make sure to move the model to GPU after initializing it on CPU with `model.to('cuda')`.\n"
     ]
    },
    {
     "data": {
      "application/vnd.jupyter.widget-view+json": {
       "model_id": "d828cfea7027461da3574be329eb8bd6",
       "version_major": 2,
       "version_minor": 0
      },
      "text/plain": [
       "Loading checkpoint shards:   0%|          | 0/2 [00:00<?, ?it/s]"
      ]
     },
     "metadata": {},
     "output_type": "display_data"
    }
   ],
   "source": [
    "model_name = \"deepseek-ai/DeepSeek-R1-Distill-Qwen-7B\"\n",
    "# You may need to install flash-attn\n",
    "attn_implementation = \"flash_attention_2\"\n",
    "model, tokenizer = get_model_and_tokenizer(model_name, attn_implementation=attn_implementation)"
   ]
  },
  {
   "cell_type": "code",
   "execution_count": 3,
   "metadata": {},
   "outputs": [],
   "source": [
    "query = \"What if the printing press had never been invented—how would today's world look? Please respond in a paragraph format.\"\n",
    "task = SimpleThoughtAttributionTask(query, model, tokenizer, source_type=\"sentence\")"
   ]
  },
  {
   "cell_type": "code",
   "execution_count": 4,
   "metadata": {},
   "outputs": [
    {
     "name": "stderr",
     "output_type": "stream",
     "text": [
      "Setting `pad_token_id` to `eos_token_id`:151643 for open-end generation.\n"
     ]
    },
    {
     "name": "stdout",
     "output_type": "stream",
     "text": [
      "If the printing press had never been invented, the world would have undergone significant changes across multiple domains. Education would likely be more localized, as the absence of mass-produced books would necessitate physical carrying of texts, making access to knowledge less universal. Without newspapers and magazines, the spread of news and information would be slower, potentially leading to a less informed society. Science and technology might progress at a slower pace due to the lack of widespread access to the latest research and knowledge sharing. Economically, the printing industry and trade could be impacted, affecting the economy and the dissemination of financial information. Culturally, literature and storytelling might evolve differently, with a slower spread of ideas and possibly a different emphasis on written works. Socially, education systems could become more fragmented, with localized learning and less emphasis on a global exchange of ideas. Overall, the absence of the printing press would likely result in a world where knowledge is more accessible but also potentially more fragmented and slower to evolve.\n"
     ]
    }
   ],
   "source": [
    "print(task.response)"
   ]
  },
  {
   "cell_type": "code",
   "execution_count": 5,
   "metadata": {},
   "outputs": [],
   "source": [
    "feature_extractor = AT2FeatureExtractor.from_model(model)\n",
    "attributor = AT2Attributor.from_hub(task, \"madrylab/at2-deepseek-r1-distill-qwen-7b\")"
   ]
  },
  {
   "cell_type": "code",
   "execution_count": 6,
   "metadata": {},
   "outputs": [
    {
     "name": "stdout",
     "output_type": "stream",
     "text": [
      "\u001b[36m[(0, 122)]\u001b[0mIf the printing press had never been invented, the world would have undergone significant changes across multiple domains. \u001b[36m[(123, 291)]\u001b[0mEducation would likely be more localized, as the absence of mass-produced books would necessitate physical carrying of texts, making access to knowledge less universal. \u001b[36m[(292, 425)]\u001b[0mWithout newspapers and magazines, the spread of news and information would be slower, potentially leading to a less informed society. \u001b[36m[(426, 563)]\u001b[0mScience and technology might progress at a slower pace due to the lack of widespread access to the latest research and knowledge sharing. \u001b[36m[(564, 698)]\u001b[0mEconomically, the printing industry and trade could be impacted, affecting the economy and the dissemination of financial information. \u001b[36m[(699, 846)]\u001b[0mCulturally, literature and storytelling might evolve differently, with a slower spread of ideas and possibly a different emphasis on written works. \u001b[36m[(847, 977)]\u001b[0mSocially, education systems could become more fragmented, with localized learning and less emphasis on a global exchange of ideas. \u001b[36m[(978, 1145)]\u001b[0mOverall, the absence of the printing press would likely result in a world where knowledge is more accessible but also potentially more fragmented and slower to evolve.\n"
     ]
    }
   ],
   "source": [
    "task.show_target_with_indices()"
   ]
  },
  {
   "cell_type": "code",
   "execution_count": 7,
   "metadata": {},
   "outputs": [
    {
     "name": "stdout",
     "output_type": "stream",
     "text": [
      "Computing attribution scores for:\n",
      " Without newspapers and magazines, the spread of news and information would be slower, potentially leading to a less informed society.\n"
     ]
    },
    {
     "data": {
      "text/html": [
       "<style type=\"text/css\">\n",
       "#T_eb91e_row0_col0 {\n",
       "  background-color: #053061;\n",
       "  color: #f1f1f1;\n",
       "}\n",
       "#T_eb91e_row1_col0 {\n",
       "  background-color: #2267ac;\n",
       "  color: #f1f1f1;\n",
       "}\n",
       "#T_eb91e_row2_col0 {\n",
       "  background-color: #75b2d4;\n",
       "  color: #f1f1f1;\n",
       "}\n",
       "#T_eb91e_row3_col0 {\n",
       "  background-color: #c2ddec;\n",
       "  color: #000000;\n",
       "}\n",
       "#T_eb91e_row4_col0 {\n",
       "  background-color: #dae9f2;\n",
       "  color: #000000;\n",
       "}\n",
       "#T_eb91e_row5_col0 {\n",
       "  background-color: #dbeaf2;\n",
       "  color: #000000;\n",
       "}\n",
       "#T_eb91e_row6_col0 {\n",
       "  background-color: #ddebf2;\n",
       "  color: #000000;\n",
       "}\n",
       "#T_eb91e_row7_col0 {\n",
       "  background-color: #e6eff4;\n",
       "  color: #000000;\n",
       "}\n",
       "</style>\n",
       "<table id=\"T_eb91e\">\n",
       "  <thead>\n",
       "    <tr>\n",
       "      <th class=\"blank level0\" >&nbsp;</th>\n",
       "      <th id=\"T_eb91e_level0_col0\" class=\"col_heading level0 col0\" >Score</th>\n",
       "      <th id=\"T_eb91e_level0_col1\" class=\"col_heading level0 col1\" >Source</th>\n",
       "    </tr>\n",
       "  </thead>\n",
       "  <tbody>\n",
       "    <tr>\n",
       "      <th id=\"T_eb91e_level0_row0\" class=\"row_heading level0 row0\" >0</th>\n",
       "      <td id=\"T_eb91e_row0_col0\" class=\"data row0 col0\" >0.006</td>\n",
       "      <td id=\"T_eb91e_row0_col1\" class=\"data row0 col1\" > So news might take longer to spread, and maybe there wouldn't be as many newspapers.</td>\n",
       "    </tr>\n",
       "    <tr>\n",
       "      <th id=\"T_eb91e_level0_row1\" class=\"row_heading level0 row1\" >1</th>\n",
       "      <td id=\"T_eb91e_row1_col0\" class=\"data row1 col0\" >0.005</td>\n",
       "      <td id=\"T_eb91e_row1_col1\" class=\"data row1 col1\" >Also, without the printing press, newspapers and magazines probably wouldn't exist in the same way.</td>\n",
       "    </tr>\n",
       "    <tr>\n",
       "      <th id=\"T_eb91e_level0_row2\" class=\"row_heading level0 row2\" >2</th>\n",
       "      <td id=\"T_eb91e_row2_col0\" class=\"data row2 col0\" >0.003</td>\n",
       "      <td id=\"T_eb91e_row2_col1\" class=\"data row2 col1\" > That could affect how people stay informed and how quickly they learn about important events.\n",
       "\n",
       "</td>\n",
       "    </tr>\n",
       "    <tr>\n",
       "      <th id=\"T_eb91e_level0_row3\" class=\"row_heading level0 row3\" >3</th>\n",
       "      <td id=\"T_eb91e_row3_col0\" class=\"data row3 col0\" >0.002</td>\n",
       "      <td id=\"T_eb91e_row3_col1\" class=\"data row3 col1\" > Without it, maybe books and knowledge wouldn't spread as quickly.</td>\n",
       "    </tr>\n",
       "    <tr>\n",
       "      <th id=\"T_eb91e_level0_row4\" class=\"row_heading level0 row4\" >4</th>\n",
       "      <td id=\"T_eb91e_row4_col0\" class=\"data row4 col0\" >0.001</td>\n",
       "      <td id=\"T_eb91e_row4_col1\" class=\"data row4 col1\" > Maybe people would have to carry books around a lot more, which could make education less accessible to everyone.\n",
       "\n",
       "</td>\n",
       "    </tr>\n",
       "    <tr>\n",
       "      <th id=\"T_eb91e_level0_row5\" class=\"row_heading level0 row5\" >5</th>\n",
       "      <td id=\"T_eb91e_row5_col0\" class=\"data row5 col0\" >0.001</td>\n",
       "      <td id=\"T_eb91e_row5_col1\" class=\"data row5 col1\" > Also, without newspapers, maybe there wouldn't be as much advertising or financial information available, which could affect how people make economic decisions.\n",
       "\n",
       "</td>\n",
       "    </tr>\n",
       "    <tr>\n",
       "      <th id=\"T_eb91e_level0_row6\" class=\"row_heading level0 row6\" >6</th>\n",
       "      <td id=\"T_eb91e_row6_col0\" class=\"data row6 col0\" >0.001</td>\n",
       "      <td id=\"T_eb91e_row6_col1\" class=\"data row6 col1\" > It might lead to slower progress in these areas, more localized knowledge sharing, and perhaps a different cultural landscape where the value of books and written words is less emphasized.\n",
       "</td>\n",
       "    </tr>\n",
       "    <tr>\n",
       "      <th id=\"T_eb91e_level0_row7\" class=\"row_heading level0 row7\" >7</th>\n",
       "      <td id=\"T_eb91e_row7_col0\" class=\"data row7 col0\" >0.001</td>\n",
       "      <td id=\"T_eb91e_row7_col1\" class=\"data row7 col1\" > Hmm, the printing press was a big deal because it changed how information is shared.</td>\n",
       "    </tr>\n",
       "  </tbody>\n",
       "</table>\n"
      ],
      "text/plain": [
       "<pandas.io.formats.style.Styler at 0x7f4d642cbcd0>"
      ]
     },
     "execution_count": 7,
     "metadata": {},
     "output_type": "execute_result"
    }
   ],
   "source": [
    "start, end = (292, 425)\n",
    "attributor.show_attribution(start=start, end=end, verbose=True)"
   ]
  },
  {
   "cell_type": "code",
   "execution_count": 8,
   "metadata": {},
   "outputs": [
    {
     "name": "stdout",
     "output_type": "stream",
     "text": [
      "\u001b[38;2;255;255;255m<｜begin▁of▁sentence｜>\u001b[0m\u001b[38;2;255;255;255m<｜User｜>\u001b[0m\u001b[38;2;255;255;255mWhat\u001b[0m\u001b[38;2;255;255;255m if\u001b[0m\u001b[38;2;255;255;255m the\u001b[0m\u001b[38;2;255;255;255m printing\u001b[0m\u001b[38;2;255;255;255m press\u001b[0m\u001b[38;2;255;255;255m had\u001b[0m\u001b[38;2;255;255;255m never\u001b[0m\u001b[38;2;255;255;255m been\u001b[0m\u001b[38;2;255;255;255m invented\u001b[0m\u001b[38;2;255;255;255m—\u001b[0m\u001b[38;2;255;255;255mhow\u001b[0m\u001b[38;2;255;255;255m would\u001b[0m\u001b[38;2;255;255;255m today\u001b[0m\u001b[38;2;255;255;255m's\u001b[0m\u001b[38;2;255;255;255m world\u001b[0m\u001b[38;2;255;255;255m look\u001b[0m\u001b[38;2;255;255;255m?\u001b[0m\u001b[38;2;255;255;255m Please\u001b[0m\u001b[38;2;255;255;255m respond\u001b[0m\u001b[38;2;255;255;255m in\u001b[0m\u001b[38;2;255;255;255m a\u001b[0m\u001b[38;2;255;255;255m paragraph\u001b[0m\u001b[38;2;255;255;255m format\u001b[0m\u001b[38;2;255;255;255m.\u001b[0m\u001b[38;2;255;255;255m<｜Assistant｜>\u001b[0m\u001b[38;2;255;255;255m<think>\u001b[0m\u001b[38;2;255;255;255m\n",
      "\u001b[0m\u001b[38;2;243;243;255mOkay\u001b[0m\u001b[38;2;243;243;255m,\u001b[0m\u001b[38;2;243;243;255m so\u001b[0m\u001b[38;2;243;243;255m I\u001b[0m\u001b[38;2;243;243;255m need\u001b[0m\u001b[38;2;243;243;255m to\u001b[0m\u001b[38;2;243;243;255m figure\u001b[0m\u001b[38;2;243;243;255m out\u001b[0m\u001b[38;2;243;243;255m what\u001b[0m\u001b[38;2;243;243;255m the\u001b[0m\u001b[38;2;243;243;255m world\u001b[0m\u001b[38;2;243;243;255m would\u001b[0m\u001b[38;2;243;243;255m be\u001b[0m\u001b[38;2;243;243;255m like\u001b[0m\u001b[38;2;243;243;255m if\u001b[0m\u001b[38;2;243;243;255m the\u001b[0m\u001b[38;2;243;243;255m printing\u001b[0m\u001b[38;2;243;243;255m press\u001b[0m\u001b[38;2;243;243;255m had\u001b[0m\u001b[38;2;243;243;255m never\u001b[0m\u001b[38;2;243;243;255m been\u001b[0m\u001b[38;2;243;243;255m invented\u001b[0m\u001b[38;2;243;243;255m.\u001b[0m\u001b[38;2;232;232;255m Hmm\u001b[0m\u001b[38;2;232;232;255m,\u001b[0m\u001b[38;2;232;232;255m the\u001b[0m\u001b[38;2;232;232;255m printing\u001b[0m\u001b[38;2;232;232;255m press\u001b[0m\u001b[38;2;232;232;255m was\u001b[0m\u001b[38;2;232;232;255m a\u001b[0m\u001b[38;2;232;232;255m big\u001b[0m\u001b[38;2;232;232;255m deal\u001b[0m\u001b[38;2;232;232;255m because\u001b[0m\u001b[38;2;232;232;255m it\u001b[0m\u001b[38;2;232;232;255m changed\u001b[0m\u001b[38;2;232;232;255m how\u001b[0m\u001b[38;2;232;232;255m information\u001b[0m\u001b[38;2;232;232;255m is\u001b[0m\u001b[38;2;232;232;255m shared\u001b[0m\u001b[38;2;232;232;255m.\u001b[0m\u001b[38;2;193;193;255m Without\u001b[0m\u001b[38;2;193;193;255m it\u001b[0m\u001b[38;2;193;193;255m,\u001b[0m\u001b[38;2;193;193;255m maybe\u001b[0m\u001b[38;2;193;193;255m books\u001b[0m\u001b[38;2;193;193;255m and\u001b[0m\u001b[38;2;193;193;255m knowledge\u001b[0m\u001b[38;2;193;193;255m wouldn\u001b[0m\u001b[38;2;193;193;255m't\u001b[0m\u001b[38;2;193;193;255m spread\u001b[0m\u001b[38;2;193;193;255m as\u001b[0m\u001b[38;2;193;193;255m quickly\u001b[0m\u001b[38;2;193;193;255m.\u001b[0m\u001b[38;2;233;233;255m I\u001b[0m\u001b[38;2;233;233;255m guess\u001b[0m\u001b[38;2;233;233;255m education\u001b[0m\u001b[38;2;233;233;255m would\u001b[0m\u001b[38;2;233;233;255m be\u001b[0m\u001b[38;2;233;233;255m different\u001b[0m\u001b[38;2;233;233;255m because\u001b[0m\u001b[38;2;233;233;255m people\u001b[0m\u001b[38;2;233;233;255m wouldn\u001b[0m\u001b[38;2;233;233;255m't\u001b[0m\u001b[38;2;233;233;255m have\u001b[0m\u001b[38;2;233;233;255m access\u001b[0m\u001b[38;2;233;233;255m to\u001b[0m\u001b[38;2;233;233;255m books\u001b[0m\u001b[38;2;233;233;255m as\u001b[0m\u001b[38;2;233;233;255m easily\u001b[0m\u001b[38;2;233;233;255m.\u001b[0m\u001b[38;2;216;216;255m Maybe\u001b[0m\u001b[38;2;216;216;255m people\u001b[0m\u001b[38;2;216;216;255m would\u001b[0m\u001b[38;2;216;216;255m have\u001b[0m\u001b[38;2;216;216;255m to\u001b[0m\u001b[38;2;216;216;255m carry\u001b[0m\u001b[38;2;216;216;255m books\u001b[0m\u001b[38;2;216;216;255m around\u001b[0m\u001b[38;2;216;216;255m a\u001b[0m\u001b[38;2;216;216;255m lot\u001b[0m\u001b[38;2;216;216;255m more\u001b[0m\u001b[38;2;216;216;255m,\u001b[0m\u001b[38;2;216;216;255m which\u001b[0m\u001b[38;2;216;216;255m could\u001b[0m\u001b[38;2;216;216;255m make\u001b[0m\u001b[38;2;216;216;255m education\u001b[0m\u001b[38;2;216;216;255m less\u001b[0m\u001b[38;2;216;216;255m accessible\u001b[0m\u001b[38;2;216;216;255m to\u001b[0m\u001b[38;2;216;216;255m everyone\u001b[0m\u001b[38;2;216;216;255m.\n",
      "\n",
      "\u001b[0m\u001b[38;2;53;53;255mAlso\u001b[0m\u001b[38;2;53;53;255m,\u001b[0m\u001b[38;2;53;53;255m without\u001b[0m\u001b[38;2;53;53;255m the\u001b[0m\u001b[38;2;53;53;255m printing\u001b[0m\u001b[38;2;53;53;255m press\u001b[0m\u001b[38;2;53;53;255m,\u001b[0m\u001b[38;2;53;53;255m newspapers\u001b[0m\u001b[38;2;53;53;255m and\u001b[0m\u001b[38;2;53;53;255m magazines\u001b[0m\u001b[38;2;53;53;255m probably\u001b[0m\u001b[38;2;53;53;255m wouldn\u001b[0m\u001b[38;2;53;53;255m't\u001b[0m\u001b[38;2;53;53;255m exist\u001b[0m\u001b[38;2;53;53;255m in\u001b[0m\u001b[38;2;53;53;255m the\u001b[0m\u001b[38;2;53;53;255m same\u001b[0m\u001b[38;2;53;53;255m way\u001b[0m\u001b[38;2;53;53;255m.\u001b[0m\u001b[38;2;1;1;255m So\u001b[0m\u001b[38;2;1;1;255m news\u001b[0m\u001b[38;2;1;1;255m might\u001b[0m\u001b[38;2;1;1;255m take\u001b[0m\u001b[38;2;1;1;255m longer\u001b[0m\u001b[38;2;1;1;255m to\u001b[0m\u001b[38;2;1;1;255m spread\u001b[0m\u001b[38;2;1;1;255m,\u001b[0m\u001b[38;2;1;1;255m and\u001b[0m\u001b[38;2;1;1;255m maybe\u001b[0m\u001b[38;2;1;1;255m there\u001b[0m\u001b[38;2;1;1;255m wouldn\u001b[0m\u001b[38;2;1;1;255m't\u001b[0m\u001b[38;2;1;1;255m be\u001b[0m\u001b[38;2;1;1;255m as\u001b[0m\u001b[38;2;1;1;255m many\u001b[0m\u001b[38;2;1;1;255m newspapers\u001b[0m\u001b[38;2;1;1;255m.\u001b[0m\u001b[38;2;135;135;255m That\u001b[0m\u001b[38;2;135;135;255m could\u001b[0m\u001b[38;2;135;135;255m affect\u001b[0m\u001b[38;2;135;135;255m how\u001b[0m\u001b[38;2;135;135;255m people\u001b[0m\u001b[38;2;135;135;255m stay\u001b[0m\u001b[38;2;135;135;255m informed\u001b[0m\u001b[38;2;135;135;255m and\u001b[0m\u001b[38;2;135;135;255m how\u001b[0m\u001b[38;2;135;135;255m quickly\u001b[0m\u001b[38;2;135;135;255m they\u001b[0m\u001b[38;2;135;135;255m learn\u001b[0m\u001b[38;2;135;135;255m about\u001b[0m\u001b[38;2;135;135;255m important\u001b[0m\u001b[38;2;135;135;255m events\u001b[0m\u001b[38;2;135;135;255m.\n",
      "\n",
      "\u001b[0m\u001b[38;2;239;239;255mScience\u001b[0m\u001b[38;2;239;239;255m and\u001b[0m\u001b[38;2;239;239;255m technology\u001b[0m\u001b[38;2;239;239;255m might\u001b[0m\u001b[38;2;239;239;255m progress\u001b[0m\u001b[38;2;239;239;255m more\u001b[0m\u001b[38;2;239;239;255m slowly\u001b[0m\u001b[38;2;239;239;255m because\u001b[0m\u001b[38;2;239;239;255m knowledge\u001b[0m\u001b[38;2;239;239;255m sharing\u001b[0m\u001b[38;2;239;239;255m is\u001b[0m\u001b[38;2;239;239;255m a\u001b[0m\u001b[38;2;239;239;255m big\u001b[0m\u001b[38;2;239;239;255m part\u001b[0m\u001b[38;2;239;239;255m of\u001b[0m\u001b[38;2;239;239;255m that\u001b[0m\u001b[38;2;239;239;255m.\u001b[0m\u001b[38;2;235;235;255m Without\u001b[0m\u001b[38;2;235;235;255m books\u001b[0m\u001b[38;2;235;235;255m,\u001b[0m\u001b[38;2;235;235;255m scientists\u001b[0m\u001b[38;2;235;235;255m might\u001b[0m\u001b[38;2;235;235;255m not\u001b[0m\u001b[38;2;235;235;255m have\u001b[0m\u001b[38;2;235;235;255m access\u001b[0m\u001b[38;2;235;235;255m to\u001b[0m\u001b[38;2;235;235;255m the\u001b[0m\u001b[38;2;235;235;255m latest\u001b[0m\u001b[38;2;235;235;255m research\u001b[0m\u001b[38;2;235;235;255m,\u001b[0m\u001b[38;2;235;235;255m so\u001b[0m\u001b[38;2;235;235;255m maybe\u001b[0m\u001b[38;2;235;235;255m they\u001b[0m\u001b[38;2;235;235;255m'd\u001b[0m\u001b[38;2;235;235;255m have\u001b[0m\u001b[38;2;235;235;255m to\u001b[0m\u001b[38;2;235;235;255m rely\u001b[0m\u001b[38;2;235;235;255m more\u001b[0m\u001b[38;2;235;235;255m on\u001b[0m\u001b[38;2;235;235;255m personal\u001b[0m\u001b[38;2;235;235;255m communication\u001b[0m\u001b[38;2;235;235;255m or\u001b[0m\u001b[38;2;235;235;255m slower\u001b[0m\u001b[38;2;235;235;255m methods\u001b[0m\u001b[38;2;235;235;255m of\u001b[0m\u001b[38;2;235;235;255m sharing\u001b[0m\u001b[38;2;235;235;255m ideas\u001b[0m\u001b[38;2;235;235;255m.\u001b[0m\u001b[38;2;252;252;255m That\u001b[0m\u001b[38;2;252;252;255m could\u001b[0m\u001b[38;2;252;252;255m slow\u001b[0m\u001b[38;2;252;252;255m down\u001b[0m\u001b[38;2;252;252;255m technological\u001b[0m\u001b[38;2;252;252;255m advancements\u001b[0m\u001b[38;2;252;252;255m.\n",
      "\n",
      "\u001b[0m\u001b[38;2;255;254;254mE\u001b[0m\u001b[38;2;255;254;254mconom\u001b[0m\u001b[38;2;255;254;254mically\u001b[0m\u001b[38;2;255;254;254m,\u001b[0m\u001b[38;2;255;254;254m trade\u001b[0m\u001b[38;2;255;254;254m and\u001b[0m\u001b[38;2;255;254;254m commerce\u001b[0m\u001b[38;2;255;254;254m might\u001b[0m\u001b[38;2;255;254;254m be\u001b[0m\u001b[38;2;255;254;254m affected\u001b[0m\u001b[38;2;255;254;254m because\u001b[0m\u001b[38;2;255;254;254m printed\u001b[0m\u001b[38;2;255;254;254m materials\u001b[0m\u001b[38;2;255;254;254m are\u001b[0m\u001b[38;2;255;254;254m a\u001b[0m\u001b[38;2;255;254;254m big\u001b[0m\u001b[38;2;255;254;254m part\u001b[0m\u001b[38;2;255;254;254m of\u001b[0m\u001b[38;2;255;254;254m that\u001b[0m\u001b[38;2;255;254;254m.\u001b[0m\u001b[38;2;251;251;255m Without\u001b[0m\u001b[38;2;251;251;255m mass\u001b[0m\u001b[38;2;251;251;255m production\u001b[0m\u001b[38;2;251;251;255m of\u001b[0m\u001b[38;2;251;251;255m books\u001b[0m\u001b[38;2;251;251;255m,\u001b[0m\u001b[38;2;251;251;255m maybe\u001b[0m\u001b[38;2;251;251;255m the\u001b[0m\u001b[38;2;251;251;255m printing\u001b[0m\u001b[38;2;251;251;255m industry\u001b[0m\u001b[38;2;251;251;255m itself\u001b[0m\u001b[38;2;251;251;255m wouldn\u001b[0m\u001b[38;2;251;251;255m't\u001b[0m\u001b[38;2;251;251;255m develop\u001b[0m\u001b[38;2;251;251;255m as\u001b[0m\u001b[38;2;251;251;255m much\u001b[0m\u001b[38;2;251;251;255m,\u001b[0m\u001b[38;2;251;251;255m which\u001b[0m\u001b[38;2;251;251;255m could\u001b[0m\u001b[38;2;251;251;255m impact\u001b[0m\u001b[38;2;251;251;255m the\u001b[0m\u001b[38;2;251;251;255m economy\u001b[0m\u001b[38;2;251;251;255m.\u001b[0m\u001b[38;2;218;218;255m Also\u001b[0m\u001b[38;2;218;218;255m,\u001b[0m\u001b[38;2;218;218;255m without\u001b[0m\u001b[38;2;218;218;255m newspapers\u001b[0m\u001b[38;2;218;218;255m,\u001b[0m\u001b[38;2;218;218;255m maybe\u001b[0m\u001b[38;2;218;218;255m there\u001b[0m\u001b[38;2;218;218;255m wouldn\u001b[0m\u001b[38;2;218;218;255m't\u001b[0m\u001b[38;2;218;218;255m be\u001b[0m\u001b[38;2;218;218;255m as\u001b[0m\u001b[38;2;218;218;255m much\u001b[0m\u001b[38;2;218;218;255m advertising\u001b[0m\u001b[38;2;218;218;255m or\u001b[0m\u001b[38;2;218;218;255m financial\u001b[0m\u001b[38;2;218;218;255m information\u001b[0m\u001b[38;2;218;218;255m available\u001b[0m\u001b[38;2;218;218;255m,\u001b[0m\u001b[38;2;218;218;255m which\u001b[0m\u001b[38;2;218;218;255m could\u001b[0m\u001b[38;2;218;218;255m affect\u001b[0m\u001b[38;2;218;218;255m how\u001b[0m\u001b[38;2;218;218;255m people\u001b[0m\u001b[38;2;218;218;255m make\u001b[0m\u001b[38;2;218;218;255m economic\u001b[0m\u001b[38;2;218;218;255m decisions\u001b[0m\u001b[38;2;218;218;255m.\n",
      "\n",
      "\u001b[0m\u001b[38;2;255;249;249mC\u001b[0m\u001b[38;2;255;249;249mult\u001b[0m\u001b[38;2;255;249;249murally\u001b[0m\u001b[38;2;255;249;249m,\u001b[0m\u001b[38;2;255;249;249m books\u001b[0m\u001b[38;2;255;249;249m have\u001b[0m\u001b[38;2;255;249;249m been\u001b[0m\u001b[38;2;255;249;249m a\u001b[0m\u001b[38;2;255;249;249m source\u001b[0m\u001b[38;2;255;249;249m of\u001b[0m\u001b[38;2;255;249;249m inspiration\u001b[0m\u001b[38;2;255;249;249m,\u001b[0m\u001b[38;2;255;249;249m stories\u001b[0m\u001b[38;2;255;249;249m,\u001b[0m\u001b[38;2;255;249;249m and\u001b[0m\u001b[38;2;255;249;249m ideas\u001b[0m\u001b[38;2;255;249;249m.\u001b[0m\u001b[38;2;248;248;255m Without\u001b[0m\u001b[38;2;248;248;255m the\u001b[0m\u001b[38;2;248;248;255m printing\u001b[0m\u001b[38;2;248;248;255m press\u001b[0m\u001b[38;2;248;248;255m,\u001b[0m\u001b[38;2;248;248;255m maybe\u001b[0m\u001b[38;2;248;248;255m literature\u001b[0m\u001b[38;2;248;248;255m would\u001b[0m\u001b[38;2;248;248;255m develop\u001b[0m\u001b[38;2;248;248;255m differently\u001b[0m\u001b[38;2;248;248;255m.\u001b[0m\u001b[38;2;250;250;255m Authors\u001b[0m\u001b[38;2;250;250;255m might\u001b[0m\u001b[38;2;250;250;255m have\u001b[0m\u001b[38;2;250;250;255m to\u001b[0m\u001b[38;2;250;250;255m write\u001b[0m\u001b[38;2;250;250;255m their\u001b[0m\u001b[38;2;250;250;255m books\u001b[0m\u001b[38;2;250;250;255m and\u001b[0m\u001b[38;2;250;250;255m then\u001b[0m\u001b[38;2;250;250;255m distribute\u001b[0m\u001b[38;2;250;250;255m them\u001b[0m\u001b[38;2;250;250;255m physically\u001b[0m\u001b[38;2;250;250;255m,\u001b[0m\u001b[38;2;250;250;255m which\u001b[0m\u001b[38;2;250;250;255m could\u001b[0m\u001b[38;2;250;250;255m slow\u001b[0m\u001b[38;2;250;250;255m down\u001b[0m\u001b[38;2;250;250;255m the\u001b[0m\u001b[38;2;250;250;255m dissemination\u001b[0m\u001b[38;2;250;250;255m of\u001b[0m\u001b[38;2;250;250;255m certain\u001b[0m\u001b[38;2;250;250;255m ideas\u001b[0m\u001b[38;2;250;250;255m or\u001b[0m\u001b[38;2;250;250;255m styles\u001b[0m\u001b[38;2;250;250;255m that\u001b[0m\u001b[38;2;250;250;255m require\u001b[0m\u001b[38;2;250;250;255m quick\u001b[0m\u001b[38;2;250;250;255m sharing\u001b[0m\u001b[38;2;250;250;255m.\n",
      "\n",
      "\u001b[0m\u001b[38;2;255;255;255mSocial\u001b[0m\u001b[38;2;255;255;255mly\u001b[0m\u001b[38;2;255;255;255m,\u001b[0m\u001b[38;2;255;255;255m education\u001b[0m\u001b[38;2;255;255;255m might\u001b[0m\u001b[38;2;255;255;255m be\u001b[0m\u001b[38;2;255;255;255m more\u001b[0m\u001b[38;2;255;255;255m localized\u001b[0m\u001b[38;2;255;255;255m.\u001b[0m\u001b[38;2;245;245;255m Without\u001b[0m\u001b[38;2;245;245;255m the\u001b[0m\u001b[38;2;245;245;255m printing\u001b[0m\u001b[38;2;245;245;255m press\u001b[0m\u001b[38;2;245;245;255m,\u001b[0m\u001b[38;2;245;245;255m schools\u001b[0m\u001b[38;2;245;245;255m might\u001b[0m\u001b[38;2;245;245;255m not\u001b[0m\u001b[38;2;245;245;255m have\u001b[0m\u001b[38;2;245;245;255m textbooks\u001b[0m\u001b[38;2;245;245;255m,\u001b[0m\u001b[38;2;245;245;255m so\u001b[0m\u001b[38;2;245;245;255m maybe\u001b[0m\u001b[38;2;245;245;255m people\u001b[0m\u001b[38;2;245;245;255m would\u001b[0m\u001b[38;2;245;245;255m have\u001b[0m\u001b[38;2;245;245;255m to\u001b[0m\u001b[38;2;245;245;255m learn\u001b[0m\u001b[38;2;245;245;255m from\u001b[0m\u001b[38;2;245;245;255m whoever\u001b[0m\u001b[38;2;245;245;255m they\u001b[0m\u001b[38;2;245;245;255m could\u001b[0m\u001b[38;2;245;245;255m physically\u001b[0m\u001b[38;2;245;245;255m meet\u001b[0m\u001b[38;2;245;245;255m or\u001b[0m\u001b[38;2;245;245;255m have\u001b[0m\u001b[38;2;245;245;255m access\u001b[0m\u001b[38;2;245;245;255m to\u001b[0m\u001b[38;2;245;245;255m.\u001b[0m\u001b[38;2;246;246;255m That\u001b[0m\u001b[38;2;246;246;255m could\u001b[0m\u001b[38;2;246;246;255m lead\u001b[0m\u001b[38;2;246;246;255m to\u001b[0m\u001b[38;2;246;246;255m a\u001b[0m\u001b[38;2;246;246;255m more\u001b[0m\u001b[38;2;246;246;255m fragmented\u001b[0m\u001b[38;2;246;246;255m education\u001b[0m\u001b[38;2;246;246;255m system\u001b[0m\u001b[38;2;246;246;255m,\u001b[0m\u001b[38;2;246;246;255m where\u001b[0m\u001b[38;2;246;246;255m knowledge\u001b[0m\u001b[38;2;246;246;255m isn\u001b[0m\u001b[38;2;246;246;255m't\u001b[0m\u001b[38;2;246;246;255m as\u001b[0m\u001b[38;2;246;246;255m widely\u001b[0m\u001b[38;2;246;246;255m shared\u001b[0m\u001b[38;2;246;246;255m and\u001b[0m\u001b[38;2;246;246;255m accessible\u001b[0m\u001b[38;2;246;246;255m.\n",
      "\n",
      "\u001b[0m\u001b[38;2;240;240;255mI\u001b[0m\u001b[38;2;240;240;255m'm\u001b[0m\u001b[38;2;240;240;255m also\u001b[0m\u001b[38;2;240;240;255m thinking\u001b[0m\u001b[38;2;240;240;255m about\u001b[0m\u001b[38;2;240;240;255m how\u001b[0m\u001b[38;2;240;240;255m the\u001b[0m\u001b[38;2;240;240;255m printing\u001b[0m\u001b[38;2;240;240;255m press\u001b[0m\u001b[38;2;240;240;255m made\u001b[0m\u001b[38;2;240;240;255m information\u001b[0m\u001b[38;2;240;240;255m more\u001b[0m\u001b[38;2;240;240;255m accessible\u001b[0m\u001b[38;2;240;240;255m,\u001b[0m\u001b[38;2;240;240;255m which\u001b[0m\u001b[38;2;240;240;255m could\u001b[0m\u001b[38;2;240;240;255m have\u001b[0m\u001b[38;2;240;240;255m both\u001b[0m\u001b[38;2;240;240;255m positive\u001b[0m\u001b[38;2;240;240;255m and\u001b[0m\u001b[38;2;240;240;255m negative\u001b[0m\u001b[38;2;240;240;255m sides\u001b[0m\u001b[38;2;240;240;255m.\u001b[0m\u001b[38;2;254;254;255m On\u001b[0m\u001b[38;2;254;254;255m the\u001b[0m\u001b[38;2;254;254;255m positive\u001b[0m\u001b[38;2;254;254;255m side\u001b[0m\u001b[38;2;254;254;255m,\u001b[0m\u001b[38;2;254;254;255m it\u001b[0m\u001b[38;2;254;254;255m allowed\u001b[0m\u001b[38;2;254;254;255m for\u001b[0m\u001b[38;2;254;254;255m the\u001b[0m\u001b[38;2;254;254;255m spread\u001b[0m\u001b[38;2;254;254;255m of\u001b[0m\u001b[38;2;254;254;255m ideas\u001b[0m\u001b[38;2;254;254;255m and\u001b[0m\u001b[38;2;254;254;255m could\u001b[0m\u001b[38;2;254;254;255m have\u001b[0m\u001b[38;2;254;254;255m accelerated\u001b[0m\u001b[38;2;254;254;255m progress\u001b[0m\u001b[38;2;254;254;255m in\u001b[0m\u001b[38;2;254;254;255m various\u001b[0m\u001b[38;2;254;254;255m fields\u001b[0m\u001b[38;2;254;254;255m.\u001b[0m\u001b[38;2;244;244;255m On\u001b[0m\u001b[38;2;244;244;255m the\u001b[0m\u001b[38;2;244;244;255m negative\u001b[0m\u001b[38;2;244;244;255m side\u001b[0m\u001b[38;2;244;244;255m,\u001b[0m\u001b[38;2;244;244;255m it\u001b[0m\u001b[38;2;244;244;255m might\u001b[0m\u001b[38;2;244;244;255m have\u001b[0m\u001b[38;2;244;244;255m also\u001b[0m\u001b[38;2;244;244;255m led\u001b[0m\u001b[38;2;244;244;255m to\u001b[0m\u001b[38;2;244;244;255m the\u001b[0m\u001b[38;2;244;244;255m spread\u001b[0m\u001b[38;2;244;244;255m of\u001b[0m\u001b[38;2;244;244;255m misinformation\u001b[0m\u001b[38;2;244;244;255m or\u001b[0m\u001b[38;2;244;244;255m pseud\u001b[0m\u001b[38;2;244;244;255mosc\u001b[0m\u001b[38;2;244;244;255mience\u001b[0m\u001b[38;2;244;244;255m if\u001b[0m\u001b[38;2;244;244;255m not\u001b[0m\u001b[38;2;244;244;255m regulated\u001b[0m\u001b[38;2;244;244;255m properly\u001b[0m\u001b[38;2;244;244;255m.\n",
      "\n",
      "\u001b[0m\u001b[38;2;234;234;255mSo\u001b[0m\u001b[38;2;234;234;255m putting\u001b[0m\u001b[38;2;234;234;255m it\u001b[0m\u001b[38;2;234;234;255m all\u001b[0m\u001b[38;2;234;234;255m together\u001b[0m\u001b[38;2;234;234;255m,\u001b[0m\u001b[38;2;234;234;255m without\u001b[0m\u001b[38;2;234;234;255m the\u001b[0m\u001b[38;2;234;234;255m printing\u001b[0m\u001b[38;2;234;234;255m press\u001b[0m\u001b[38;2;234;234;255m,\u001b[0m\u001b[38;2;234;234;255m education\u001b[0m\u001b[38;2;234;234;255m,\u001b[0m\u001b[38;2;234;234;255m science\u001b[0m\u001b[38;2;234;234;255m,\u001b[0m\u001b[38;2;234;234;255m commerce\u001b[0m\u001b[38;2;234;234;255m,\u001b[0m\u001b[38;2;234;234;255m and\u001b[0m\u001b[38;2;234;234;255m culture\u001b[0m\u001b[38;2;234;234;255m would\u001b[0m\u001b[38;2;234;234;255m all\u001b[0m\u001b[38;2;234;234;255m be\u001b[0m\u001b[38;2;234;234;255m affected\u001b[0m\u001b[38;2;234;234;255m in\u001b[0m\u001b[38;2;234;234;255m various\u001b[0m\u001b[38;2;234;234;255m ways\u001b[0m\u001b[38;2;234;234;255m.\u001b[0m\u001b[38;2;220;220;255m It\u001b[0m\u001b[38;2;220;220;255m might\u001b[0m\u001b[38;2;220;220;255m lead\u001b[0m\u001b[38;2;220;220;255m to\u001b[0m\u001b[38;2;220;220;255m slower\u001b[0m\u001b[38;2;220;220;255m progress\u001b[0m\u001b[38;2;220;220;255m in\u001b[0m\u001b[38;2;220;220;255m these\u001b[0m\u001b[38;2;220;220;255m areas\u001b[0m\u001b[38;2;220;220;255m,\u001b[0m\u001b[38;2;220;220;255m more\u001b[0m\u001b[38;2;220;220;255m localized\u001b[0m\u001b[38;2;220;220;255m knowledge\u001b[0m\u001b[38;2;220;220;255m sharing\u001b[0m\u001b[38;2;220;220;255m,\u001b[0m\u001b[38;2;220;220;255m and\u001b[0m\u001b[38;2;220;220;255m perhaps\u001b[0m\u001b[38;2;220;220;255m a\u001b[0m\u001b[38;2;220;220;255m different\u001b[0m\u001b[38;2;220;220;255m cultural\u001b[0m\u001b[38;2;220;220;255m landscape\u001b[0m\u001b[38;2;220;220;255m where\u001b[0m\u001b[38;2;220;220;255m the\u001b[0m\u001b[38;2;220;220;255m value\u001b[0m\u001b[38;2;220;220;255m of\u001b[0m\u001b[38;2;220;220;255m books\u001b[0m\u001b[38;2;220;220;255m and\u001b[0m\u001b[38;2;220;220;255m written\u001b[0m\u001b[38;2;220;220;255m words\u001b[0m\u001b[38;2;220;220;255m is\u001b[0m\u001b[38;2;220;220;255m less\u001b[0m\u001b[38;2;220;220;255m emphasized\u001b[0m\u001b[38;2;220;220;255m.\n",
      "\u001b[0m\u001b[38;2;255;255;255m</think>\u001b[0m\u001b[38;2;255;255;255m\n",
      "\n",
      "\u001b[0m\u001b[38;2;255;255;255mIf\u001b[0m\u001b[38;2;255;255;255m the\u001b[0m\u001b[38;2;255;255;255m printing\u001b[0m\u001b[38;2;255;255;255m press\u001b[0m\u001b[38;2;255;255;255m had\u001b[0m\u001b[38;2;255;255;255m never\u001b[0m\u001b[38;2;255;255;255m been\u001b[0m\u001b[38;2;255;255;255m invented\u001b[0m\u001b[38;2;255;255;255m,\u001b[0m\u001b[38;2;255;255;255m the\u001b[0m\u001b[38;2;255;255;255m world\u001b[0m\u001b[38;2;255;255;255m would\u001b[0m\u001b[38;2;255;255;255m have\u001b[0m\u001b[38;2;255;255;255m undergone\u001b[0m\u001b[38;2;255;255;255m significant\u001b[0m\u001b[38;2;255;255;255m changes\u001b[0m\u001b[38;2;255;255;255m across\u001b[0m\u001b[38;2;255;255;255m multiple\u001b[0m\u001b[38;2;255;255;255m domains\u001b[0m\u001b[38;2;255;255;255m.\u001b[0m\u001b[38;2;255;255;255m Education\u001b[0m\u001b[38;2;255;255;255m would\u001b[0m\u001b[38;2;255;255;255m likely\u001b[0m\u001b[38;2;255;255;255m be\u001b[0m\u001b[38;2;255;255;255m more\u001b[0m\u001b[38;2;255;255;255m localized\u001b[0m\u001b[38;2;255;255;255m,\u001b[0m\u001b[38;2;255;255;255m as\u001b[0m\u001b[38;2;255;255;255m the\u001b[0m\u001b[38;2;255;255;255m absence\u001b[0m\u001b[38;2;255;255;255m of\u001b[0m\u001b[38;2;255;255;255m mass\u001b[0m\u001b[38;2;255;255;255m-produced\u001b[0m\u001b[38;2;255;255;255m books\u001b[0m\u001b[38;2;255;255;255m would\u001b[0m\u001b[38;2;255;255;255m necess\u001b[0m\u001b[38;2;255;255;255mitate\u001b[0m\u001b[38;2;255;255;255m physical\u001b[0m\u001b[38;2;255;255;255m carrying\u001b[0m\u001b[38;2;255;255;255m of\u001b[0m\u001b[38;2;255;255;255m texts\u001b[0m\u001b[38;2;255;255;255m,\u001b[0m\u001b[38;2;255;255;255m making\u001b[0m\u001b[38;2;255;255;255m access\u001b[0m\u001b[38;2;255;255;255m to\u001b[0m\u001b[38;2;255;255;255m knowledge\u001b[0m\u001b[38;2;255;255;255m less\u001b[0m\u001b[38;2;255;255;255m universal\u001b[0m\u001b[38;2;255;255;255m.\u001b[0m\u001b[38;2;255;255;0m Without\u001b[0m\u001b[38;2;255;255;0m newspapers\u001b[0m\u001b[38;2;255;255;0m and\u001b[0m\u001b[38;2;255;255;0m magazines\u001b[0m\u001b[38;2;255;255;0m,\u001b[0m\u001b[38;2;255;255;0m the\u001b[0m\u001b[38;2;255;255;0m spread\u001b[0m\u001b[38;2;255;255;0m of\u001b[0m\u001b[38;2;255;255;0m news\u001b[0m\u001b[38;2;255;255;0m and\u001b[0m\u001b[38;2;255;255;0m information\u001b[0m\u001b[38;2;255;255;0m would\u001b[0m\u001b[38;2;255;255;0m be\u001b[0m\u001b[38;2;255;255;0m slower\u001b[0m\u001b[38;2;255;255;0m,\u001b[0m\u001b[38;2;255;255;0m potentially\u001b[0m\u001b[38;2;255;255;0m leading\u001b[0m\u001b[38;2;255;255;0m to\u001b[0m\u001b[38;2;255;255;0m a\u001b[0m\u001b[38;2;255;255;0m less\u001b[0m\u001b[38;2;255;255;0m informed\u001b[0m\u001b[38;2;255;255;0m society\u001b[0m\u001b[38;2;255;255;0m.\u001b[0m\u001b[38;2;255;255;255m Science\u001b[0m\u001b[38;2;255;255;255m and\u001b[0m\u001b[38;2;255;255;255m technology\u001b[0m\u001b[38;2;255;255;255m might\u001b[0m\u001b[38;2;255;255;255m progress\u001b[0m\u001b[38;2;255;255;255m at\u001b[0m\u001b[38;2;255;255;255m a\u001b[0m\u001b[38;2;255;255;255m slower\u001b[0m\u001b[38;2;255;255;255m pace\u001b[0m\u001b[38;2;255;255;255m due\u001b[0m\u001b[38;2;255;255;255m to\u001b[0m\u001b[38;2;255;255;255m the\u001b[0m\u001b[38;2;255;255;255m lack\u001b[0m\u001b[38;2;255;255;255m of\u001b[0m\u001b[38;2;255;255;255m widespread\u001b[0m\u001b[38;2;255;255;255m access\u001b[0m\u001b[38;2;255;255;255m to\u001b[0m\u001b[38;2;255;255;255m the\u001b[0m\u001b[38;2;255;255;255m latest\u001b[0m\u001b[38;2;255;255;255m research\u001b[0m\u001b[38;2;255;255;255m and\u001b[0m\u001b[38;2;255;255;255m knowledge\u001b[0m\u001b[38;2;255;255;255m sharing\u001b[0m\u001b[38;2;255;255;255m.\u001b[0m\u001b[38;2;255;255;255m Econom\u001b[0m\u001b[38;2;255;255;255mically\u001b[0m\u001b[38;2;255;255;255m,\u001b[0m\u001b[38;2;255;255;255m the\u001b[0m\u001b[38;2;255;255;255m printing\u001b[0m\u001b[38;2;255;255;255m industry\u001b[0m\u001b[38;2;255;255;255m and\u001b[0m\u001b[38;2;255;255;255m trade\u001b[0m\u001b[38;2;255;255;255m could\u001b[0m\u001b[38;2;255;255;255m be\u001b[0m\u001b[38;2;255;255;255m impacted\u001b[0m\u001b[38;2;255;255;255m,\u001b[0m\u001b[38;2;255;255;255m affecting\u001b[0m\u001b[38;2;255;255;255m the\u001b[0m\u001b[38;2;255;255;255m economy\u001b[0m\u001b[38;2;255;255;255m and\u001b[0m\u001b[38;2;255;255;255m the\u001b[0m\u001b[38;2;255;255;255m dissemination\u001b[0m\u001b[38;2;255;255;255m of\u001b[0m\u001b[38;2;255;255;255m financial\u001b[0m\u001b[38;2;255;255;255m information\u001b[0m\u001b[38;2;255;255;255m.\u001b[0m\u001b[38;2;255;255;255m Cult\u001b[0m\u001b[38;2;255;255;255murally\u001b[0m\u001b[38;2;255;255;255m,\u001b[0m\u001b[38;2;255;255;255m literature\u001b[0m\u001b[38;2;255;255;255m and\u001b[0m\u001b[38;2;255;255;255m storytelling\u001b[0m\u001b[38;2;255;255;255m might\u001b[0m\u001b[38;2;255;255;255m evolve\u001b[0m\u001b[38;2;255;255;255m differently\u001b[0m\u001b[38;2;255;255;255m,\u001b[0m\u001b[38;2;255;255;255m with\u001b[0m\u001b[38;2;255;255;255m a\u001b[0m\u001b[38;2;255;255;255m slower\u001b[0m\u001b[38;2;255;255;255m spread\u001b[0m\u001b[38;2;255;255;255m of\u001b[0m\u001b[38;2;255;255;255m ideas\u001b[0m\u001b[38;2;255;255;255m and\u001b[0m\u001b[38;2;255;255;255m possibly\u001b[0m\u001b[38;2;255;255;255m a\u001b[0m\u001b[38;2;255;255;255m different\u001b[0m\u001b[38;2;255;255;255m emphasis\u001b[0m\u001b[38;2;255;255;255m on\u001b[0m\u001b[38;2;255;255;255m written\u001b[0m\u001b[38;2;255;255;255m works\u001b[0m\u001b[38;2;255;255;255m.\u001b[0m\u001b[38;2;255;255;255m Social\u001b[0m\u001b[38;2;255;255;255mly\u001b[0m\u001b[38;2;255;255;255m,\u001b[0m\u001b[38;2;255;255;255m education\u001b[0m\u001b[38;2;255;255;255m systems\u001b[0m\u001b[38;2;255;255;255m could\u001b[0m\u001b[38;2;255;255;255m become\u001b[0m\u001b[38;2;255;255;255m more\u001b[0m\u001b[38;2;255;255;255m fragmented\u001b[0m\u001b[38;2;255;255;255m,\u001b[0m\u001b[38;2;255;255;255m with\u001b[0m\u001b[38;2;255;255;255m localized\u001b[0m\u001b[38;2;255;255;255m learning\u001b[0m\u001b[38;2;255;255;255m and\u001b[0m\u001b[38;2;255;255;255m less\u001b[0m\u001b[38;2;255;255;255m emphasis\u001b[0m\u001b[38;2;255;255;255m on\u001b[0m\u001b[38;2;255;255;255m a\u001b[0m\u001b[38;2;255;255;255m global\u001b[0m\u001b[38;2;255;255;255m exchange\u001b[0m\u001b[38;2;255;255;255m of\u001b[0m\u001b[38;2;255;255;255m ideas\u001b[0m\u001b[38;2;255;255;255m.\u001b[0m\u001b[38;2;255;255;255m Overall\u001b[0m\u001b[38;2;255;255;255m,\u001b[0m\u001b[38;2;255;255;255m the\u001b[0m\u001b[38;2;255;255;255m absence\u001b[0m\u001b[38;2;255;255;255m of\u001b[0m\u001b[38;2;255;255;255m the\u001b[0m\u001b[38;2;255;255;255m printing\u001b[0m\u001b[38;2;255;255;255m press\u001b[0m\u001b[38;2;255;255;255m would\u001b[0m\u001b[38;2;255;255;255m likely\u001b[0m\u001b[38;2;255;255;255m result\u001b[0m\u001b[38;2;255;255;255m in\u001b[0m\u001b[38;2;255;255;255m a\u001b[0m\u001b[38;2;255;255;255m world\u001b[0m\u001b[38;2;255;255;255m where\u001b[0m\u001b[38;2;255;255;255m knowledge\u001b[0m\u001b[38;2;255;255;255m is\u001b[0m\u001b[38;2;255;255;255m more\u001b[0m\u001b[38;2;255;255;255m accessible\u001b[0m\u001b[38;2;255;255;255m but\u001b[0m\u001b[38;2;255;255;255m also\u001b[0m\u001b[38;2;255;255;255m potentially\u001b[0m\u001b[38;2;255;255;255m more\u001b[0m\u001b[38;2;255;255;255m fragmented\u001b[0m\u001b[38;2;255;255;255m and\u001b[0m\u001b[38;2;255;255;255m slower\u001b[0m\u001b[38;2;255;255;255m to\u001b[0m\u001b[38;2;255;255;255m evolve\u001b[0m\u001b[38;2;255;255;255m.\u001b[0m\u001b[38;2;255;255;255m<｜end▁of▁sentence｜>\u001b[0m\n"
     ]
    }
   ],
   "source": [
    "print(attributor.highlight_attribution(start=start, end=end))"
   ]
  }
 ],
 "metadata": {
  "kernelspec": {
   "display_name": "Python 3 (ipykernel)",
   "language": "python",
   "name": "python3"
  }
 },
 "nbformat": 4,
 "nbformat_minor": 2
}
