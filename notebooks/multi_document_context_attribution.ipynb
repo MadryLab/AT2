{
 "cells": [
  {
   "cell_type": "markdown",
   "metadata": {},
   "source": [
    "# Multi-document Context Attribution\n",
    "\n",
    "In this notebook, we'll walk through applying AT2 to a multi-document context attribution setting.\n",
    "This involves extending the `ContextAttributionTask` class and providing the relevant document structure for attribution."
   ]
  },
  {
   "cell_type": "code",
   "execution_count": 1,
   "metadata": {},
   "outputs": [],
   "source": [
    "import torch as ch\n",
    "from datasets import load_dataset"
   ]
  },
  {
   "cell_type": "code",
   "execution_count": 2,
   "metadata": {},
   "outputs": [
    {
     "name": "stderr",
     "output_type": "stream",
     "text": [
      "[nltk_data] Downloading package punkt_tab to\n",
      "[nltk_data]     /mnt/xfs/home/bencw/nltk_data...\n",
      "[nltk_data]   Package punkt_tab is already up-to-date!\n"
     ]
    }
   ],
   "source": [
    "from at2.tasks import ContextAttributionTask\n",
    "from at2.utils import get_model_and_tokenizer\n",
    "from at2 import AT2Attributor, AT2ScoreEstimator"
   ]
  },
  {
   "cell_type": "markdown",
   "metadata": {},
   "source": [
    "We'll start by loading a model, its tokenizer, and an existing AT2 score estimator trained for it."
   ]
  },
  {
   "cell_type": "code",
   "execution_count": 3,
   "metadata": {},
   "outputs": [
    {
     "data": {
      "application/vnd.jupyter.widget-view+json": {
       "model_id": "5c945ef3999a414fb32f429037416bd6",
       "version_major": 2,
       "version_minor": 0
      },
      "text/plain": [
       "Loading checkpoint shards:   0%|          | 0/2 [00:00<?, ?it/s]"
      ]
     },
     "metadata": {},
     "output_type": "display_data"
    }
   ],
   "source": [
    "model_name = \"microsoft/Phi-4-mini-instruct\"\n",
    "dtype = ch.bfloat16\n",
    "model, tokenizer = get_model_and_tokenizer(model_name, dtype=dtype)\n",
    "score_estimator = AT2ScoreEstimator.from_hub(\"madrylab/at2-phi-4-mini-instruct\")"
   ]
  },
  {
   "cell_type": "markdown",
   "metadata": {},
   "source": [
    "Next, we'll load the dataset.\n",
    "We'll be working with [Hotpot QA](https://arxiv.org/abs/1809.09600), a multi-hop question answering dataset where answering requires combining information from multiple documents."
   ]
  },
  {
   "cell_type": "code",
   "execution_count": 4,
   "metadata": {},
   "outputs": [],
   "source": [
    "dataset = load_dataset(\"hotpot_qa\", \"distractor\", split=\"validation\", trust_remote_code=True)"
   ]
  },
  {
   "cell_type": "markdown",
   "metadata": {},
   "source": [
    "We now extend the `ContextAttributionTask` to support this task.\n",
    "Specifically, we define a `get_prompt_and_document_ranges` function to format the documents into a prompt and provide character ranges for these documents.\n",
    "These documents can be directly treated as sources, or will be split further into sources automatically (if we set the `source_type` parameter to something besides `\"document\"`)."
   ]
  },
  {
   "cell_type": "code",
   "execution_count": 5,
   "metadata": {},
   "outputs": [],
   "source": [
    "class HotpotQAAttributionTask(ContextAttributionTask):\n",
    "    def __init__(self, example, *args, **kwargs):\n",
    "        super().__init__(*args, **kwargs)\n",
    "        self.example = example\n",
    "        self._prompt, self._document_ranges = self.get_prompt_and_document_ranges()\n",
    "\n",
    "    @property\n",
    "    def query(self):\n",
    "        query = self.example[\"question\"]\n",
    "        return query\n",
    "\n",
    "    def get_prompt_and_document_ranges(self):\n",
    "        individual_sentences = self.example[\"context\"][\"sentences\"]\n",
    "        prompt = \"Passages:\\n\\n\"\n",
    "        document_ranges = []\n",
    "        for sentences in individual_sentences:\n",
    "            passage = \" \".join(sentences)\n",
    "            document_ranges.append((len(prompt), len(prompt) + len(passage)))\n",
    "            prompt += passage + \"\\n\\n\"\n",
    "        prompt = f\"{prompt}Query: {self.query}\"\n",
    "        return prompt, document_ranges\n",
    "\n",
    "    @property\n",
    "    def prompt(self):\n",
    "        return self._prompt\n",
    "\n",
    "    def _get_document_ranges(self):\n",
    "        return self._document_ranges"
   ]
  },
  {
   "cell_type": "markdown",
   "metadata": {},
   "source": [
    "We're now ready to create a task and perform attribution!"
   ]
  },
  {
   "cell_type": "code",
   "execution_count": 6,
   "metadata": {},
   "outputs": [],
   "source": [
    "task = HotpotQAAttributionTask(dataset[42], model, tokenizer, source_type=\"sentence\")"
   ]
  },
  {
   "cell_type": "code",
   "execution_count": 7,
   "metadata": {},
   "outputs": [
    {
     "name": "stdout",
     "output_type": "stream",
     "text": [
      "<|user|>Passages:\n",
      "\n",
      "Manga Bible (新約聖書 , Shinyaku Seisho ) is a five-volume manga series based on the Christian Bible created under the direction of the non-profit organization Next, a group formed by people from the manga industry.  Though first published in English, the books are originally written in Japanese and each volume is illustrated by a Japanese manga artist.  Each book is adapted from the Bible by Hidenori Kumai.  The first two books were illustrated by manga artist Kozumi Shinozawa, while the remaining three will be illustrated by a different artist.  The first book in the series, \"Manga Messiah\" was published in 2006 and covered the four gospels of the Bible: Matthew, Mark, Luke, and John.  \"Manga Metamorphosis\" (2008) covers the events in Acts and several of Paul's letters.  \"Manga Mutiny\" (2008, 2009) begins in Genesis and ends in Exodus.  \"Manga Melech\" (2010) picks up where \"Manga Mutiny\" left off and continues into the reign of David.  The fifth, and currently final book, \"Manga Messengers\" (2011) addresses events starting with the reign of King Solomon and takes stories from several of the major and minor prophets, and the Book of Esther and concludes with anticipation of a messiah.\n",
      "\n",
      "Masakazu Katsura (桂 正和 , Katsura Masakazu , born December 10, 1962) is a Japanese manga artist, known for several works of manga, including \"Wing-man\", \"Shadow Lady\", \"DNA²\", \"Video Girl Ai\", \"I\"s\", and \"Zetman\".  He has also worked as character designer for \"\", \"Tiger & Bunny\" and \"\".\n",
      "\n",
      "Neuro: Supernatural Detective, known in Japan as Majin Tantei Nōgami Neuro (Japanese: 魔人探偵 脳噛ネウロ , lit.  \"Demon Detective Neuro Nōgami\") , is a Japanese manga series written and illustrated by Yūsei Matsui.  The series follows Neuro Nōgami, a demon who depends on mysteries for sustenance.  Having consumed all the mysteries in the demon world, Neuro travels to the human world in search of more.  There, Neuro recruits high school student Yako Katsuragi as a facade for a detective agency.  The supernatural-themed manga was created because Matsui considered himself unable to draw humans.\n",
      "\n",
      "Haven't You Heard?  I'm Sakamoto (坂本ですが?  , Sakamoto desu ga?  , lit.  \"I'm Sakamoto, You Know?\")  is a Japanese manga series written and illustrated by Nami Sano.  The manga follows a high school student named Sakamoto, who has a reputation for being the \"coolest\" person among the entire student body.  The series has been licensed for an English release by Seven Seas Entertainment.  An anime television adaptation by Studio Deen aired between April 8, 2016 and July 1, 2016.\n",
      "\n",
      "My Bride Is a Mermaid (Japanese: 瀬戸の花嫁 , Hepburn: Seto no Hanayome , lit.  \"The Inland Sea Bride\") is a Japanese manga series written by Tahiko Kimura.  The manga was serialized between the September 2002 and May 2009 issues of \"Monthly Gangan Wing\", and the June and December 2010 issues of \"Monthly Gangan Joker\", both published by Square Enix.  In 2004, a drama CD based on the series was released by Frontier Works.  A 26-episode anime television series adaptation animated by Gonzo and directed by Seiji Kishi aired in Japan on TV Tokyo between April and September 2007.  Two original video animation episodes were released in November 2008 and January 2009.  Odex, a Singaporean distributor, released it in English in Singapore as \"Seto No Hana Yome\".  The anime was licensed for a North American distribution by Funimation Entertainment and was released in 2010 under the title \"My Bride Is a Mermaid!\" .\n",
      "\n",
      "Clear Skies!  (Japanese: 毎日晴天!  , Hepburn: Mainichi Seiten! )  is a Japanese manga series written by Akira Sugano and illustrated by Etsumi Ninomiya.  The manga is licensed in North America by Digital Manga Publishing under its Juné imprint, which released the first volume on 28 August 2008.  It's about four brothers living together, when one of the brother's old high school flame turns up and claims that he's married to the brothers' wild older sister, who is nowhere to be found, bringing his adopted son.\n",
      "\n",
      "Silver Spoon (Japanese: 銀の匙 , Hepburn: Gin no Saji ) is a Japanese manga series written and illustrated by Hiromu Arakawa, set in the fictional Ooezo Agricultural High School in Hokkaido.  It depicts the daily life of Yuugo Hachiken, a high school student from Sapporo who enrolled at Ezo fleeing from the demands of his strict father.  However, he soon learns that life on an agricultural school is not as easy as he initially believed.  Unlike his new classmates, he has no intention of following an agricultural career after graduating, although he envies them for already having set goals for their lives and the pursuit of their dreams.\n",
      "\n",
      "The Prince Of Tennis (Japanese: テニスの王子様 , Hepburn: Tenisu no Ōjisama ) is a Japanese manga series about a tennis prodigy written and illustrated by Takeshi Konomi.  The title is often shortened to Tenni-Pri (テニプリ ) , a portmanteau of the words \"Tennis Prince\".  The manga was first published in Japan in Shueisha's \"Weekly Shōnen Jump\" in July 1999, and ended publication on March 3, 2008.  A total of 379 chapters were serialized, spanning 42 volumes.  As of volume 40, the manga has sold over 40 million copies in Japan.  News that a sequel to the manga series was going to be developed was announced in the December issue of the Japanese manga magazine \"Jump Square\".  The new manga series, entitled \"New Prince of Tennis\", began serialization in the \"Jump Square\" magazine on March 4, 2009, with the story taking place several months after the end of the original manga.  Viz Media acquired the license to distribute the series in English in North America.\n",
      "\n",
      "The Kindaichi Case Files (Japanese: 金田一少年の事件簿 , Hepburn: Kindaichi Shōnen no Jikenbo ) is a Japanese mystery manga series based on the crime solving adventures of a high school student, Hajime Kindaichi, the supposed grandson of the famous (fictional) private detective Kosuke Kindaichi.  They are written by Yōzaburō Kanari or Seimaru Amagi (depending on series) and illustrated by Fumiya Satō.  The \"Kindaichi series\", which started serialization in \"Weekly Shōnen Magazine\" in 1992, is one of the earliest works in the mystery manga genre.  In 1995, the manga won the Kodansha Manga Award for shōnen.\n",
      "\n",
      "I\"s (アイズ , Aizu ) is a Japanese manga series written and illustrated by Masakazu Katsura.  The story's main character is 16-year-old high school student Ichitaka Seto who is in love with his classmate Iori Yoshizuki, but too shy to tell her.  Again and again he plans to tell her his true feelings, but each time something (usually a misunderstanding of some kind) gets in the way.  Things become even more complicated when Itsuki Akiba returns to Japan; she is a girl Ichitaka was friends with in their childhood before she moved to the United States, and who had a huge crush on him.\n",
      "\n",
      "Query: A Japanese manga series based on a 16 year old high school student Ichitaka Seto, is written and illustrated by someone born in what year?<|end|><|assistant|>\n"
     ]
    }
   ],
   "source": [
    "print(task.input_text)"
   ]
  },
  {
   "cell_type": "code",
   "execution_count": 8,
   "metadata": {},
   "outputs": [
    {
     "name": "stdout",
     "output_type": "stream",
     "text": [
      "The Japanese manga series \"I\"s (アイズ, Aizu) is written and illustrated by Masakazu Katsura, who was born in 1962.\n"
     ]
    }
   ],
   "source": [
    "print(task.generation)"
   ]
  },
  {
   "cell_type": "code",
   "execution_count": 9,
   "metadata": {},
   "outputs": [
    {
     "data": {
      "text/html": [
       "<style type=\"text/css\">\n",
       "#T_18456_row0_col0 {\n",
       "  background-color: #053061;\n",
       "  color: #f1f1f1;\n",
       "}\n",
       "#T_18456_row1_col0 {\n",
       "  background-color: #96c7df;\n",
       "  color: #000000;\n",
       "}\n",
       "#T_18456_row2_col0 {\n",
       "  background-color: #f0f4f6;\n",
       "  color: #000000;\n",
       "}\n",
       "#T_18456_row3_col0 {\n",
       "  background-color: #f2f5f6;\n",
       "  color: #000000;\n",
       "}\n",
       "#T_18456_row4_col0, #T_18456_row5_col0, #T_18456_row6_col0 {\n",
       "  background-color: #f3f5f6;\n",
       "  color: #000000;\n",
       "}\n",
       "#T_18456_row7_col0 {\n",
       "  background-color: #f5f6f7;\n",
       "  color: #000000;\n",
       "}\n",
       "</style>\n",
       "<table id=\"T_18456\">\n",
       "  <thead>\n",
       "    <tr>\n",
       "      <th class=\"blank level0\" >&nbsp;</th>\n",
       "      <th id=\"T_18456_level0_col0\" class=\"col_heading level0 col0\" >Score</th>\n",
       "      <th id=\"T_18456_level0_col1\" class=\"col_heading level0 col1\" >Source</th>\n",
       "    </tr>\n",
       "  </thead>\n",
       "  <tbody>\n",
       "    <tr>\n",
       "      <th id=\"T_18456_level0_row0\" class=\"row_heading level0 row0\" >0</th>\n",
       "      <td id=\"T_18456_row0_col0\" class=\"data row0 col0\" >0.007</td>\n",
       "      <td id=\"T_18456_row0_col1\" class=\"data row0 col1\" >I\"s (アイズ , Aizu ) is a Japanese manga series written and illustrated by Masakazu Katsura.</td>\n",
       "    </tr>\n",
       "    <tr>\n",
       "      <th id=\"T_18456_level0_row1\" class=\"row_heading level0 row1\" >1</th>\n",
       "      <td id=\"T_18456_row1_col0\" class=\"data row1 col0\" >0.003</td>\n",
       "      <td id=\"T_18456_row1_col1\" class=\"data row1 col1\" >Masakazu Katsura (桂 正和 , Katsura Masakazu , born December 10, 1962) is a Japanese manga artist, known for several works of manga, including \"Wing-man\", \"Shadow Lady\", \"DNA²\", \"Video Girl Ai\", \"I\"s\", and \"Zetman\".</td>\n",
       "    </tr>\n",
       "    <tr>\n",
       "      <th id=\"T_18456_level0_row2\" class=\"row_heading level0 row2\" >2</th>\n",
       "      <td id=\"T_18456_row2_col0\" class=\"data row2 col0\" >0.000</td>\n",
       "      <td id=\"T_18456_row2_col1\" class=\"data row2 col1\" >Manga Bible (新約聖書 , Shinyaku Seisho ) is a five-volume manga series based on the Christian Bible created under the direction of the non-profit organization Next, a group formed by people from the manga industry.</td>\n",
       "    </tr>\n",
       "    <tr>\n",
       "      <th id=\"T_18456_level0_row3\" class=\"row_heading level0 row3\" >3</th>\n",
       "      <td id=\"T_18456_row3_col0\" class=\"data row3 col0\" >0.000</td>\n",
       "      <td id=\"T_18456_row3_col1\" class=\"data row3 col1\" >Silver Spoon (Japanese: 銀の匙 , Hepburn: Gin no Saji ) is a Japanese manga series written and illustrated by Hiromu Arakawa, set in the fictional Ooezo Agricultural High School in Hokkaido.</td>\n",
       "    </tr>\n",
       "    <tr>\n",
       "      <th id=\"T_18456_level0_row4\" class=\"row_heading level0 row4\" >4</th>\n",
       "      <td id=\"T_18456_row4_col0\" class=\"data row4 col0\" >0.000</td>\n",
       "      <td id=\"T_18456_row4_col1\" class=\"data row4 col1\" > Things become even more complicated when Itsuki Akiba returns to Japan; she is a girl Ichitaka was friends with in their childhood before she moved to the United States, and who had a huge crush on him.\n",
       "\n",
       "</td>\n",
       "    </tr>\n",
       "    <tr>\n",
       "      <th id=\"T_18456_level0_row5\" class=\"row_heading level0 row5\" >5</th>\n",
       "      <td id=\"T_18456_row5_col0\" class=\"data row5 col0\" >0.000</td>\n",
       "      <td id=\"T_18456_row5_col1\" class=\"data row5 col1\" > The story's main character is 16-year-old high school student Ichitaka Seto who is in love with his classmate Iori Yoshizuki, but too shy to tell her.</td>\n",
       "    </tr>\n",
       "    <tr>\n",
       "      <th id=\"T_18456_level0_row6\" class=\"row_heading level0 row6\" >6</th>\n",
       "      <td id=\"T_18456_row6_col0\" class=\"data row6 col0\" >0.000</td>\n",
       "      <td id=\"T_18456_row6_col1\" class=\"data row6 col1\" > The first two books were illustrated by manga artist Kozumi Shinozawa, while the remaining three will be illustrated by a different artist.</td>\n",
       "    </tr>\n",
       "    <tr>\n",
       "      <th id=\"T_18456_level0_row7\" class=\"row_heading level0 row7\" >7</th>\n",
       "      <td id=\"T_18456_row7_col0\" class=\"data row7 col0\" >0.000</td>\n",
       "      <td id=\"T_18456_row7_col1\" class=\"data row7 col1\" > Though first published in English, the books are originally written in Japanese and each volume is illustrated by a Japanese manga artist.</td>\n",
       "    </tr>\n",
       "  </tbody>\n",
       "</table>\n"
      ],
      "text/plain": [
       "<pandas.io.formats.style.Styler at 0x7fe95cde7160>"
      ]
     },
     "execution_count": 9,
     "metadata": {},
     "output_type": "execute_result"
    }
   ],
   "source": [
    "attributor = AT2Attributor(task, score_estimator)\n",
    "attributor.show_attribution(verbose=True)"
   ]
  }
 ],
 "metadata": {
  "kernelspec": {
   "display_name": "Python 3 (ipykernel)",
   "language": "python",
   "name": "python3"
  },
  "language_info": {
   "codemirror_mode": {
    "name": "ipython",
    "version": 3
   },
   "file_extension": ".py",
   "mimetype": "text/x-python",
   "name": "python",
   "nbconvert_exporter": "python",
   "pygments_lexer": "ipython3",
   "version": "3.10.14"
  }
 },
 "nbformat": 4,
 "nbformat_minor": 2
}
